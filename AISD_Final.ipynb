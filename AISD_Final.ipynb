{
  "nbformat": 4,
  "nbformat_minor": 0,
  "metadata": {
    "colab": {
      "provenance": [],
      "collapsed_sections": [
        "fTWcjzJFdxdV",
        "awkXWxFGeATN"
      ],
      "gpuType": "T4",
      "authorship_tag": "ABX9TyPrFDjPeK1mcGupTBQ008/N",
      "include_colab_link": true
    },
    "kernelspec": {
      "name": "python3",
      "display_name": "Python 3"
    },
    "language_info": {
      "name": "python"
    },
    "accelerator": "GPU",
    "widgets": {
      "application/vnd.jupyter.widget-state+json": {
        "15d6d003d2994953b78feb41c9152ca4": {
          "model_module": "@jupyter-widgets/controls",
          "model_name": "HBoxModel",
          "model_module_version": "1.5.0",
          "state": {
            "_dom_classes": [],
            "_model_module": "@jupyter-widgets/controls",
            "_model_module_version": "1.5.0",
            "_model_name": "HBoxModel",
            "_view_count": null,
            "_view_module": "@jupyter-widgets/controls",
            "_view_module_version": "1.5.0",
            "_view_name": "HBoxView",
            "box_style": "",
            "children": [
              "IPY_MODEL_a124a583b6a84f77977ca5247a3203a5",
              "IPY_MODEL_69178205547a47a6b5a280dad0bbb99f",
              "IPY_MODEL_29add81f4d3447a98c961ce008743b14"
            ],
            "layout": "IPY_MODEL_40454a42f0954789a489262345540e14"
          }
        },
        "a124a583b6a84f77977ca5247a3203a5": {
          "model_module": "@jupyter-widgets/controls",
          "model_name": "HTMLModel",
          "model_module_version": "1.5.0",
          "state": {
            "_dom_classes": [],
            "_model_module": "@jupyter-widgets/controls",
            "_model_module_version": "1.5.0",
            "_model_name": "HTMLModel",
            "_view_count": null,
            "_view_module": "@jupyter-widgets/controls",
            "_view_module_version": "1.5.0",
            "_view_name": "HTMLView",
            "description": "",
            "description_tooltip": null,
            "layout": "IPY_MODEL_3a33faf795784cd5918f09700181b62a",
            "placeholder": "​",
            "style": "IPY_MODEL_b0d831103a6e43e8986b9fdc47ff27ca",
            "value": "Map: 100%"
          }
        },
        "69178205547a47a6b5a280dad0bbb99f": {
          "model_module": "@jupyter-widgets/controls",
          "model_name": "FloatProgressModel",
          "model_module_version": "1.5.0",
          "state": {
            "_dom_classes": [],
            "_model_module": "@jupyter-widgets/controls",
            "_model_module_version": "1.5.0",
            "_model_name": "FloatProgressModel",
            "_view_count": null,
            "_view_module": "@jupyter-widgets/controls",
            "_view_module_version": "1.5.0",
            "_view_name": "ProgressView",
            "bar_style": "success",
            "description": "",
            "description_tooltip": null,
            "layout": "IPY_MODEL_03dcf145238f4dcb842ba8ba2fe904c6",
            "max": 5959,
            "min": 0,
            "orientation": "horizontal",
            "style": "IPY_MODEL_9241cf2f97a94f41a6b905218cb1fded",
            "value": 5959
          }
        },
        "29add81f4d3447a98c961ce008743b14": {
          "model_module": "@jupyter-widgets/controls",
          "model_name": "HTMLModel",
          "model_module_version": "1.5.0",
          "state": {
            "_dom_classes": [],
            "_model_module": "@jupyter-widgets/controls",
            "_model_module_version": "1.5.0",
            "_model_name": "HTMLModel",
            "_view_count": null,
            "_view_module": "@jupyter-widgets/controls",
            "_view_module_version": "1.5.0",
            "_view_name": "HTMLView",
            "description": "",
            "description_tooltip": null,
            "layout": "IPY_MODEL_65cb9a6e4604445b904640d77b36bd1c",
            "placeholder": "​",
            "style": "IPY_MODEL_52653f164120465f8becae8d38b48337",
            "value": " 5959/5959 [00:02&lt;00:00, 2525.14 examples/s]"
          }
        },
        "40454a42f0954789a489262345540e14": {
          "model_module": "@jupyter-widgets/base",
          "model_name": "LayoutModel",
          "model_module_version": "1.2.0",
          "state": {
            "_model_module": "@jupyter-widgets/base",
            "_model_module_version": "1.2.0",
            "_model_name": "LayoutModel",
            "_view_count": null,
            "_view_module": "@jupyter-widgets/base",
            "_view_module_version": "1.2.0",
            "_view_name": "LayoutView",
            "align_content": null,
            "align_items": null,
            "align_self": null,
            "border": null,
            "bottom": null,
            "display": null,
            "flex": null,
            "flex_flow": null,
            "grid_area": null,
            "grid_auto_columns": null,
            "grid_auto_flow": null,
            "grid_auto_rows": null,
            "grid_column": null,
            "grid_gap": null,
            "grid_row": null,
            "grid_template_areas": null,
            "grid_template_columns": null,
            "grid_template_rows": null,
            "height": null,
            "justify_content": null,
            "justify_items": null,
            "left": null,
            "margin": null,
            "max_height": null,
            "max_width": null,
            "min_height": null,
            "min_width": null,
            "object_fit": null,
            "object_position": null,
            "order": null,
            "overflow": null,
            "overflow_x": null,
            "overflow_y": null,
            "padding": null,
            "right": null,
            "top": null,
            "visibility": null,
            "width": null
          }
        },
        "3a33faf795784cd5918f09700181b62a": {
          "model_module": "@jupyter-widgets/base",
          "model_name": "LayoutModel",
          "model_module_version": "1.2.0",
          "state": {
            "_model_module": "@jupyter-widgets/base",
            "_model_module_version": "1.2.0",
            "_model_name": "LayoutModel",
            "_view_count": null,
            "_view_module": "@jupyter-widgets/base",
            "_view_module_version": "1.2.0",
            "_view_name": "LayoutView",
            "align_content": null,
            "align_items": null,
            "align_self": null,
            "border": null,
            "bottom": null,
            "display": null,
            "flex": null,
            "flex_flow": null,
            "grid_area": null,
            "grid_auto_columns": null,
            "grid_auto_flow": null,
            "grid_auto_rows": null,
            "grid_column": null,
            "grid_gap": null,
            "grid_row": null,
            "grid_template_areas": null,
            "grid_template_columns": null,
            "grid_template_rows": null,
            "height": null,
            "justify_content": null,
            "justify_items": null,
            "left": null,
            "margin": null,
            "max_height": null,
            "max_width": null,
            "min_height": null,
            "min_width": null,
            "object_fit": null,
            "object_position": null,
            "order": null,
            "overflow": null,
            "overflow_x": null,
            "overflow_y": null,
            "padding": null,
            "right": null,
            "top": null,
            "visibility": null,
            "width": null
          }
        },
        "b0d831103a6e43e8986b9fdc47ff27ca": {
          "model_module": "@jupyter-widgets/controls",
          "model_name": "DescriptionStyleModel",
          "model_module_version": "1.5.0",
          "state": {
            "_model_module": "@jupyter-widgets/controls",
            "_model_module_version": "1.5.0",
            "_model_name": "DescriptionStyleModel",
            "_view_count": null,
            "_view_module": "@jupyter-widgets/base",
            "_view_module_version": "1.2.0",
            "_view_name": "StyleView",
            "description_width": ""
          }
        },
        "03dcf145238f4dcb842ba8ba2fe904c6": {
          "model_module": "@jupyter-widgets/base",
          "model_name": "LayoutModel",
          "model_module_version": "1.2.0",
          "state": {
            "_model_module": "@jupyter-widgets/base",
            "_model_module_version": "1.2.0",
            "_model_name": "LayoutModel",
            "_view_count": null,
            "_view_module": "@jupyter-widgets/base",
            "_view_module_version": "1.2.0",
            "_view_name": "LayoutView",
            "align_content": null,
            "align_items": null,
            "align_self": null,
            "border": null,
            "bottom": null,
            "display": null,
            "flex": null,
            "flex_flow": null,
            "grid_area": null,
            "grid_auto_columns": null,
            "grid_auto_flow": null,
            "grid_auto_rows": null,
            "grid_column": null,
            "grid_gap": null,
            "grid_row": null,
            "grid_template_areas": null,
            "grid_template_columns": null,
            "grid_template_rows": null,
            "height": null,
            "justify_content": null,
            "justify_items": null,
            "left": null,
            "margin": null,
            "max_height": null,
            "max_width": null,
            "min_height": null,
            "min_width": null,
            "object_fit": null,
            "object_position": null,
            "order": null,
            "overflow": null,
            "overflow_x": null,
            "overflow_y": null,
            "padding": null,
            "right": null,
            "top": null,
            "visibility": null,
            "width": null
          }
        },
        "9241cf2f97a94f41a6b905218cb1fded": {
          "model_module": "@jupyter-widgets/controls",
          "model_name": "ProgressStyleModel",
          "model_module_version": "1.5.0",
          "state": {
            "_model_module": "@jupyter-widgets/controls",
            "_model_module_version": "1.5.0",
            "_model_name": "ProgressStyleModel",
            "_view_count": null,
            "_view_module": "@jupyter-widgets/base",
            "_view_module_version": "1.2.0",
            "_view_name": "StyleView",
            "bar_color": null,
            "description_width": ""
          }
        },
        "65cb9a6e4604445b904640d77b36bd1c": {
          "model_module": "@jupyter-widgets/base",
          "model_name": "LayoutModel",
          "model_module_version": "1.2.0",
          "state": {
            "_model_module": "@jupyter-widgets/base",
            "_model_module_version": "1.2.0",
            "_model_name": "LayoutModel",
            "_view_count": null,
            "_view_module": "@jupyter-widgets/base",
            "_view_module_version": "1.2.0",
            "_view_name": "LayoutView",
            "align_content": null,
            "align_items": null,
            "align_self": null,
            "border": null,
            "bottom": null,
            "display": null,
            "flex": null,
            "flex_flow": null,
            "grid_area": null,
            "grid_auto_columns": null,
            "grid_auto_flow": null,
            "grid_auto_rows": null,
            "grid_column": null,
            "grid_gap": null,
            "grid_row": null,
            "grid_template_areas": null,
            "grid_template_columns": null,
            "grid_template_rows": null,
            "height": null,
            "justify_content": null,
            "justify_items": null,
            "left": null,
            "margin": null,
            "max_height": null,
            "max_width": null,
            "min_height": null,
            "min_width": null,
            "object_fit": null,
            "object_position": null,
            "order": null,
            "overflow": null,
            "overflow_x": null,
            "overflow_y": null,
            "padding": null,
            "right": null,
            "top": null,
            "visibility": null,
            "width": null
          }
        },
        "52653f164120465f8becae8d38b48337": {
          "model_module": "@jupyter-widgets/controls",
          "model_name": "DescriptionStyleModel",
          "model_module_version": "1.5.0",
          "state": {
            "_model_module": "@jupyter-widgets/controls",
            "_model_module_version": "1.5.0",
            "_model_name": "DescriptionStyleModel",
            "_view_count": null,
            "_view_module": "@jupyter-widgets/base",
            "_view_module_version": "1.2.0",
            "_view_name": "StyleView",
            "description_width": ""
          }
        },
        "df22f8e8b4e04c8b96998bee497a6c62": {
          "model_module": "@jupyter-widgets/controls",
          "model_name": "HBoxModel",
          "model_module_version": "1.5.0",
          "state": {
            "_dom_classes": [],
            "_model_module": "@jupyter-widgets/controls",
            "_model_module_version": "1.5.0",
            "_model_name": "HBoxModel",
            "_view_count": null,
            "_view_module": "@jupyter-widgets/controls",
            "_view_module_version": "1.5.0",
            "_view_name": "HBoxView",
            "box_style": "",
            "children": [
              "IPY_MODEL_a5b8656d2423453fac2b0ef2fe26311b",
              "IPY_MODEL_3a47e19cfe044b9cba8d9a8602c684ae",
              "IPY_MODEL_442c796c296d498cafe1d62fdec34cf5"
            ],
            "layout": "IPY_MODEL_eed990eefca74bf0ad98f78896496ea9"
          }
        },
        "a5b8656d2423453fac2b0ef2fe26311b": {
          "model_module": "@jupyter-widgets/controls",
          "model_name": "HTMLModel",
          "model_module_version": "1.5.0",
          "state": {
            "_dom_classes": [],
            "_model_module": "@jupyter-widgets/controls",
            "_model_module_version": "1.5.0",
            "_model_name": "HTMLModel",
            "_view_count": null,
            "_view_module": "@jupyter-widgets/controls",
            "_view_module_version": "1.5.0",
            "_view_name": "HTMLView",
            "description": "",
            "description_tooltip": null,
            "layout": "IPY_MODEL_b3b5f05a92f34beba386b40d9116bf0b",
            "placeholder": "​",
            "style": "IPY_MODEL_73cd686d2e4e4cadaec80e02e9d5ad72",
            "value": "Map: 100%"
          }
        },
        "3a47e19cfe044b9cba8d9a8602c684ae": {
          "model_module": "@jupyter-widgets/controls",
          "model_name": "FloatProgressModel",
          "model_module_version": "1.5.0",
          "state": {
            "_dom_classes": [],
            "_model_module": "@jupyter-widgets/controls",
            "_model_module_version": "1.5.0",
            "_model_name": "FloatProgressModel",
            "_view_count": null,
            "_view_module": "@jupyter-widgets/controls",
            "_view_module_version": "1.5.0",
            "_view_name": "ProgressView",
            "bar_style": "success",
            "description": "",
            "description_tooltip": null,
            "layout": "IPY_MODEL_c85ea8b9a44344c1a404ef0cd4171bcb",
            "max": 1490,
            "min": 0,
            "orientation": "horizontal",
            "style": "IPY_MODEL_bf095727bed74daa9673ac6b6c635f9c",
            "value": 1490
          }
        },
        "442c796c296d498cafe1d62fdec34cf5": {
          "model_module": "@jupyter-widgets/controls",
          "model_name": "HTMLModel",
          "model_module_version": "1.5.0",
          "state": {
            "_dom_classes": [],
            "_model_module": "@jupyter-widgets/controls",
            "_model_module_version": "1.5.0",
            "_model_name": "HTMLModel",
            "_view_count": null,
            "_view_module": "@jupyter-widgets/controls",
            "_view_module_version": "1.5.0",
            "_view_name": "HTMLView",
            "description": "",
            "description_tooltip": null,
            "layout": "IPY_MODEL_10892d2c3ed7434996a897f2d4518ba7",
            "placeholder": "​",
            "style": "IPY_MODEL_1600272e98b8491d802e26196c710653",
            "value": " 1490/1490 [00:00&lt;00:00, 2558.22 examples/s]"
          }
        },
        "eed990eefca74bf0ad98f78896496ea9": {
          "model_module": "@jupyter-widgets/base",
          "model_name": "LayoutModel",
          "model_module_version": "1.2.0",
          "state": {
            "_model_module": "@jupyter-widgets/base",
            "_model_module_version": "1.2.0",
            "_model_name": "LayoutModel",
            "_view_count": null,
            "_view_module": "@jupyter-widgets/base",
            "_view_module_version": "1.2.0",
            "_view_name": "LayoutView",
            "align_content": null,
            "align_items": null,
            "align_self": null,
            "border": null,
            "bottom": null,
            "display": null,
            "flex": null,
            "flex_flow": null,
            "grid_area": null,
            "grid_auto_columns": null,
            "grid_auto_flow": null,
            "grid_auto_rows": null,
            "grid_column": null,
            "grid_gap": null,
            "grid_row": null,
            "grid_template_areas": null,
            "grid_template_columns": null,
            "grid_template_rows": null,
            "height": null,
            "justify_content": null,
            "justify_items": null,
            "left": null,
            "margin": null,
            "max_height": null,
            "max_width": null,
            "min_height": null,
            "min_width": null,
            "object_fit": null,
            "object_position": null,
            "order": null,
            "overflow": null,
            "overflow_x": null,
            "overflow_y": null,
            "padding": null,
            "right": null,
            "top": null,
            "visibility": null,
            "width": null
          }
        },
        "b3b5f05a92f34beba386b40d9116bf0b": {
          "model_module": "@jupyter-widgets/base",
          "model_name": "LayoutModel",
          "model_module_version": "1.2.0",
          "state": {
            "_model_module": "@jupyter-widgets/base",
            "_model_module_version": "1.2.0",
            "_model_name": "LayoutModel",
            "_view_count": null,
            "_view_module": "@jupyter-widgets/base",
            "_view_module_version": "1.2.0",
            "_view_name": "LayoutView",
            "align_content": null,
            "align_items": null,
            "align_self": null,
            "border": null,
            "bottom": null,
            "display": null,
            "flex": null,
            "flex_flow": null,
            "grid_area": null,
            "grid_auto_columns": null,
            "grid_auto_flow": null,
            "grid_auto_rows": null,
            "grid_column": null,
            "grid_gap": null,
            "grid_row": null,
            "grid_template_areas": null,
            "grid_template_columns": null,
            "grid_template_rows": null,
            "height": null,
            "justify_content": null,
            "justify_items": null,
            "left": null,
            "margin": null,
            "max_height": null,
            "max_width": null,
            "min_height": null,
            "min_width": null,
            "object_fit": null,
            "object_position": null,
            "order": null,
            "overflow": null,
            "overflow_x": null,
            "overflow_y": null,
            "padding": null,
            "right": null,
            "top": null,
            "visibility": null,
            "width": null
          }
        },
        "73cd686d2e4e4cadaec80e02e9d5ad72": {
          "model_module": "@jupyter-widgets/controls",
          "model_name": "DescriptionStyleModel",
          "model_module_version": "1.5.0",
          "state": {
            "_model_module": "@jupyter-widgets/controls",
            "_model_module_version": "1.5.0",
            "_model_name": "DescriptionStyleModel",
            "_view_count": null,
            "_view_module": "@jupyter-widgets/base",
            "_view_module_version": "1.2.0",
            "_view_name": "StyleView",
            "description_width": ""
          }
        },
        "c85ea8b9a44344c1a404ef0cd4171bcb": {
          "model_module": "@jupyter-widgets/base",
          "model_name": "LayoutModel",
          "model_module_version": "1.2.0",
          "state": {
            "_model_module": "@jupyter-widgets/base",
            "_model_module_version": "1.2.0",
            "_model_name": "LayoutModel",
            "_view_count": null,
            "_view_module": "@jupyter-widgets/base",
            "_view_module_version": "1.2.0",
            "_view_name": "LayoutView",
            "align_content": null,
            "align_items": null,
            "align_self": null,
            "border": null,
            "bottom": null,
            "display": null,
            "flex": null,
            "flex_flow": null,
            "grid_area": null,
            "grid_auto_columns": null,
            "grid_auto_flow": null,
            "grid_auto_rows": null,
            "grid_column": null,
            "grid_gap": null,
            "grid_row": null,
            "grid_template_areas": null,
            "grid_template_columns": null,
            "grid_template_rows": null,
            "height": null,
            "justify_content": null,
            "justify_items": null,
            "left": null,
            "margin": null,
            "max_height": null,
            "max_width": null,
            "min_height": null,
            "min_width": null,
            "object_fit": null,
            "object_position": null,
            "order": null,
            "overflow": null,
            "overflow_x": null,
            "overflow_y": null,
            "padding": null,
            "right": null,
            "top": null,
            "visibility": null,
            "width": null
          }
        },
        "bf095727bed74daa9673ac6b6c635f9c": {
          "model_module": "@jupyter-widgets/controls",
          "model_name": "ProgressStyleModel",
          "model_module_version": "1.5.0",
          "state": {
            "_model_module": "@jupyter-widgets/controls",
            "_model_module_version": "1.5.0",
            "_model_name": "ProgressStyleModel",
            "_view_count": null,
            "_view_module": "@jupyter-widgets/base",
            "_view_module_version": "1.2.0",
            "_view_name": "StyleView",
            "bar_color": null,
            "description_width": ""
          }
        },
        "10892d2c3ed7434996a897f2d4518ba7": {
          "model_module": "@jupyter-widgets/base",
          "model_name": "LayoutModel",
          "model_module_version": "1.2.0",
          "state": {
            "_model_module": "@jupyter-widgets/base",
            "_model_module_version": "1.2.0",
            "_model_name": "LayoutModel",
            "_view_count": null,
            "_view_module": "@jupyter-widgets/base",
            "_view_module_version": "1.2.0",
            "_view_name": "LayoutView",
            "align_content": null,
            "align_items": null,
            "align_self": null,
            "border": null,
            "bottom": null,
            "display": null,
            "flex": null,
            "flex_flow": null,
            "grid_area": null,
            "grid_auto_columns": null,
            "grid_auto_flow": null,
            "grid_auto_rows": null,
            "grid_column": null,
            "grid_gap": null,
            "grid_row": null,
            "grid_template_areas": null,
            "grid_template_columns": null,
            "grid_template_rows": null,
            "height": null,
            "justify_content": null,
            "justify_items": null,
            "left": null,
            "margin": null,
            "max_height": null,
            "max_width": null,
            "min_height": null,
            "min_width": null,
            "object_fit": null,
            "object_position": null,
            "order": null,
            "overflow": null,
            "overflow_x": null,
            "overflow_y": null,
            "padding": null,
            "right": null,
            "top": null,
            "visibility": null,
            "width": null
          }
        },
        "1600272e98b8491d802e26196c710653": {
          "model_module": "@jupyter-widgets/controls",
          "model_name": "DescriptionStyleModel",
          "model_module_version": "1.5.0",
          "state": {
            "_model_module": "@jupyter-widgets/controls",
            "_model_module_version": "1.5.0",
            "_model_name": "DescriptionStyleModel",
            "_view_count": null,
            "_view_module": "@jupyter-widgets/base",
            "_view_module_version": "1.2.0",
            "_view_name": "StyleView",
            "description_width": ""
          }
        },
        "e8bb8f21976e4c58aa356c357cceda33": {
          "model_module": "@jupyter-widgets/controls",
          "model_name": "HBoxModel",
          "model_module_version": "1.5.0",
          "state": {
            "_dom_classes": [],
            "_model_module": "@jupyter-widgets/controls",
            "_model_module_version": "1.5.0",
            "_model_name": "HBoxModel",
            "_view_count": null,
            "_view_module": "@jupyter-widgets/controls",
            "_view_module_version": "1.5.0",
            "_view_name": "HBoxView",
            "box_style": "",
            "children": [
              "IPY_MODEL_228d04ae3661482c949224ae01f3b808",
              "IPY_MODEL_df932ef4e6ed46f396ca0155c253c8d9",
              "IPY_MODEL_9f9e86129b1e437a9b04ff8fbb697487"
            ],
            "layout": "IPY_MODEL_8269a853653345bbbd30c05ca3cb283f"
          }
        },
        "228d04ae3661482c949224ae01f3b808": {
          "model_module": "@jupyter-widgets/controls",
          "model_name": "HTMLModel",
          "model_module_version": "1.5.0",
          "state": {
            "_dom_classes": [],
            "_model_module": "@jupyter-widgets/controls",
            "_model_module_version": "1.5.0",
            "_model_name": "HTMLModel",
            "_view_count": null,
            "_view_module": "@jupyter-widgets/controls",
            "_view_module_version": "1.5.0",
            "_view_name": "HTMLView",
            "description": "",
            "description_tooltip": null,
            "layout": "IPY_MODEL_c09661df9b0b4c158e1a12df27122a02",
            "placeholder": "​",
            "style": "IPY_MODEL_c6e7f8e57f2442c293555314b8ac5e0e",
            "value": "Map: 100%"
          }
        },
        "df932ef4e6ed46f396ca0155c253c8d9": {
          "model_module": "@jupyter-widgets/controls",
          "model_name": "FloatProgressModel",
          "model_module_version": "1.5.0",
          "state": {
            "_dom_classes": [],
            "_model_module": "@jupyter-widgets/controls",
            "_model_module_version": "1.5.0",
            "_model_name": "FloatProgressModel",
            "_view_count": null,
            "_view_module": "@jupyter-widgets/controls",
            "_view_module_version": "1.5.0",
            "_view_name": "ProgressView",
            "bar_style": "success",
            "description": "",
            "description_tooltip": null,
            "layout": "IPY_MODEL_3070a9b239d449689fcaac09a8c238a4",
            "max": 1863,
            "min": 0,
            "orientation": "horizontal",
            "style": "IPY_MODEL_9e95e553785440a2a8ffd6258b4d7797",
            "value": 1863
          }
        },
        "9f9e86129b1e437a9b04ff8fbb697487": {
          "model_module": "@jupyter-widgets/controls",
          "model_name": "HTMLModel",
          "model_module_version": "1.5.0",
          "state": {
            "_dom_classes": [],
            "_model_module": "@jupyter-widgets/controls",
            "_model_module_version": "1.5.0",
            "_model_name": "HTMLModel",
            "_view_count": null,
            "_view_module": "@jupyter-widgets/controls",
            "_view_module_version": "1.5.0",
            "_view_name": "HTMLView",
            "description": "",
            "description_tooltip": null,
            "layout": "IPY_MODEL_ee554cff612a4042aea72addc529bbcb",
            "placeholder": "​",
            "style": "IPY_MODEL_5abd68c1f86243888afcbf716d407324",
            "value": " 1863/1863 [00:00&lt;00:00, 2544.92 examples/s]"
          }
        },
        "8269a853653345bbbd30c05ca3cb283f": {
          "model_module": "@jupyter-widgets/base",
          "model_name": "LayoutModel",
          "model_module_version": "1.2.0",
          "state": {
            "_model_module": "@jupyter-widgets/base",
            "_model_module_version": "1.2.0",
            "_model_name": "LayoutModel",
            "_view_count": null,
            "_view_module": "@jupyter-widgets/base",
            "_view_module_version": "1.2.0",
            "_view_name": "LayoutView",
            "align_content": null,
            "align_items": null,
            "align_self": null,
            "border": null,
            "bottom": null,
            "display": null,
            "flex": null,
            "flex_flow": null,
            "grid_area": null,
            "grid_auto_columns": null,
            "grid_auto_flow": null,
            "grid_auto_rows": null,
            "grid_column": null,
            "grid_gap": null,
            "grid_row": null,
            "grid_template_areas": null,
            "grid_template_columns": null,
            "grid_template_rows": null,
            "height": null,
            "justify_content": null,
            "justify_items": null,
            "left": null,
            "margin": null,
            "max_height": null,
            "max_width": null,
            "min_height": null,
            "min_width": null,
            "object_fit": null,
            "object_position": null,
            "order": null,
            "overflow": null,
            "overflow_x": null,
            "overflow_y": null,
            "padding": null,
            "right": null,
            "top": null,
            "visibility": null,
            "width": null
          }
        },
        "c09661df9b0b4c158e1a12df27122a02": {
          "model_module": "@jupyter-widgets/base",
          "model_name": "LayoutModel",
          "model_module_version": "1.2.0",
          "state": {
            "_model_module": "@jupyter-widgets/base",
            "_model_module_version": "1.2.0",
            "_model_name": "LayoutModel",
            "_view_count": null,
            "_view_module": "@jupyter-widgets/base",
            "_view_module_version": "1.2.0",
            "_view_name": "LayoutView",
            "align_content": null,
            "align_items": null,
            "align_self": null,
            "border": null,
            "bottom": null,
            "display": null,
            "flex": null,
            "flex_flow": null,
            "grid_area": null,
            "grid_auto_columns": null,
            "grid_auto_flow": null,
            "grid_auto_rows": null,
            "grid_column": null,
            "grid_gap": null,
            "grid_row": null,
            "grid_template_areas": null,
            "grid_template_columns": null,
            "grid_template_rows": null,
            "height": null,
            "justify_content": null,
            "justify_items": null,
            "left": null,
            "margin": null,
            "max_height": null,
            "max_width": null,
            "min_height": null,
            "min_width": null,
            "object_fit": null,
            "object_position": null,
            "order": null,
            "overflow": null,
            "overflow_x": null,
            "overflow_y": null,
            "padding": null,
            "right": null,
            "top": null,
            "visibility": null,
            "width": null
          }
        },
        "c6e7f8e57f2442c293555314b8ac5e0e": {
          "model_module": "@jupyter-widgets/controls",
          "model_name": "DescriptionStyleModel",
          "model_module_version": "1.5.0",
          "state": {
            "_model_module": "@jupyter-widgets/controls",
            "_model_module_version": "1.5.0",
            "_model_name": "DescriptionStyleModel",
            "_view_count": null,
            "_view_module": "@jupyter-widgets/base",
            "_view_module_version": "1.2.0",
            "_view_name": "StyleView",
            "description_width": ""
          }
        },
        "3070a9b239d449689fcaac09a8c238a4": {
          "model_module": "@jupyter-widgets/base",
          "model_name": "LayoutModel",
          "model_module_version": "1.2.0",
          "state": {
            "_model_module": "@jupyter-widgets/base",
            "_model_module_version": "1.2.0",
            "_model_name": "LayoutModel",
            "_view_count": null,
            "_view_module": "@jupyter-widgets/base",
            "_view_module_version": "1.2.0",
            "_view_name": "LayoutView",
            "align_content": null,
            "align_items": null,
            "align_self": null,
            "border": null,
            "bottom": null,
            "display": null,
            "flex": null,
            "flex_flow": null,
            "grid_area": null,
            "grid_auto_columns": null,
            "grid_auto_flow": null,
            "grid_auto_rows": null,
            "grid_column": null,
            "grid_gap": null,
            "grid_row": null,
            "grid_template_areas": null,
            "grid_template_columns": null,
            "grid_template_rows": null,
            "height": null,
            "justify_content": null,
            "justify_items": null,
            "left": null,
            "margin": null,
            "max_height": null,
            "max_width": null,
            "min_height": null,
            "min_width": null,
            "object_fit": null,
            "object_position": null,
            "order": null,
            "overflow": null,
            "overflow_x": null,
            "overflow_y": null,
            "padding": null,
            "right": null,
            "top": null,
            "visibility": null,
            "width": null
          }
        },
        "9e95e553785440a2a8ffd6258b4d7797": {
          "model_module": "@jupyter-widgets/controls",
          "model_name": "ProgressStyleModel",
          "model_module_version": "1.5.0",
          "state": {
            "_model_module": "@jupyter-widgets/controls",
            "_model_module_version": "1.5.0",
            "_model_name": "ProgressStyleModel",
            "_view_count": null,
            "_view_module": "@jupyter-widgets/base",
            "_view_module_version": "1.2.0",
            "_view_name": "StyleView",
            "bar_color": null,
            "description_width": ""
          }
        },
        "ee554cff612a4042aea72addc529bbcb": {
          "model_module": "@jupyter-widgets/base",
          "model_name": "LayoutModel",
          "model_module_version": "1.2.0",
          "state": {
            "_model_module": "@jupyter-widgets/base",
            "_model_module_version": "1.2.0",
            "_model_name": "LayoutModel",
            "_view_count": null,
            "_view_module": "@jupyter-widgets/base",
            "_view_module_version": "1.2.0",
            "_view_name": "LayoutView",
            "align_content": null,
            "align_items": null,
            "align_self": null,
            "border": null,
            "bottom": null,
            "display": null,
            "flex": null,
            "flex_flow": null,
            "grid_area": null,
            "grid_auto_columns": null,
            "grid_auto_flow": null,
            "grid_auto_rows": null,
            "grid_column": null,
            "grid_gap": null,
            "grid_row": null,
            "grid_template_areas": null,
            "grid_template_columns": null,
            "grid_template_rows": null,
            "height": null,
            "justify_content": null,
            "justify_items": null,
            "left": null,
            "margin": null,
            "max_height": null,
            "max_width": null,
            "min_height": null,
            "min_width": null,
            "object_fit": null,
            "object_position": null,
            "order": null,
            "overflow": null,
            "overflow_x": null,
            "overflow_y": null,
            "padding": null,
            "right": null,
            "top": null,
            "visibility": null,
            "width": null
          }
        },
        "5abd68c1f86243888afcbf716d407324": {
          "model_module": "@jupyter-widgets/controls",
          "model_name": "DescriptionStyleModel",
          "model_module_version": "1.5.0",
          "state": {
            "_model_module": "@jupyter-widgets/controls",
            "_model_module_version": "1.5.0",
            "_model_name": "DescriptionStyleModel",
            "_view_count": null,
            "_view_module": "@jupyter-widgets/base",
            "_view_module_version": "1.2.0",
            "_view_name": "StyleView",
            "description_width": ""
          }
        }
      }
    }
  },
  "cells": [
    {
      "cell_type": "markdown",
      "metadata": {
        "id": "view-in-github",
        "colab_type": "text"
      },
      "source": [
        "<a href=\"https://colab.research.google.com/github/folivora-hi/AISD/blob/main/AISD_Final.ipynb\" target=\"_parent\"><img src=\"https://colab.research.google.com/assets/colab-badge.svg\" alt=\"Open In Colab\"/></a>"
      ]
    },
    {
      "cell_type": "markdown",
      "source": [
        "# 2025 Fall AISD Final Project\n",
        "\n",
        "113356048 劉亭妤"
      ],
      "metadata": {
        "id": "G3Wqnoh7j3R9"
      }
    },
    {
      "cell_type": "code",
      "source": [
        "!pip install numpy==1.26.4 --force-reinstall --no-cache-dir\n",
        "!pip install transformers datasets huggingface-hub --no-cache-dir\n",
        "!pip install 'accelerate>=0.26.0"
      ],
      "metadata": {
        "colab": {
          "base_uri": "https://localhost:8080/"
        },
        "collapsed": true,
        "id": "_Iz1y9_IargN",
        "outputId": "9fa66ec4-1e7c-4bc9-b799-189e104c484f"
      },
      "execution_count": null,
      "outputs": [
        {
          "output_type": "stream",
          "name": "stdout",
          "text": [
            "Collecting numpy==1.26.4\n",
            "  Downloading numpy-1.26.4-cp311-cp311-manylinux_2_17_x86_64.manylinux2014_x86_64.whl.metadata (61 kB)\n",
            "\u001b[?25l     \u001b[90m━━━━━━━━━━━━━━━━━━━━━━━━━━━━━━━━━━━━━━━━\u001b[0m \u001b[32m0.0/61.0 kB\u001b[0m \u001b[31m?\u001b[0m eta \u001b[36m-:--:--\u001b[0m\r\u001b[2K     \u001b[90m━━━━━━━━━━━━━━━━━━━━━━━━━━━━━━━━━━━━━━━━\u001b[0m \u001b[32m61.0/61.0 kB\u001b[0m \u001b[31m96.0 MB/s\u001b[0m eta \u001b[36m0:00:00\u001b[0m\n",
            "\u001b[?25hDownloading numpy-1.26.4-cp311-cp311-manylinux_2_17_x86_64.manylinux2014_x86_64.whl (18.3 MB)\n",
            "\u001b[2K   \u001b[90m━━━━━━━━━━━━━━━━━━━━━━━━━━━━━━━━━━━━━━━━\u001b[0m \u001b[32m18.3/18.3 MB\u001b[0m \u001b[31m185.1 MB/s\u001b[0m eta \u001b[36m0:00:00\u001b[0m\n",
            "\u001b[?25hInstalling collected packages: numpy\n",
            "  Attempting uninstall: numpy\n",
            "    Found existing installation: numpy 1.26.4\n",
            "    Uninstalling numpy-1.26.4:\n",
            "      Successfully uninstalled numpy-1.26.4\n",
            "\u001b[31mERROR: pip's dependency resolver does not currently take into account all the packages that are installed. This behaviour is the source of the following dependency conflicts.\n",
            "spacy 3.8.7 requires thinc<8.4.0,>=8.3.4, which is not installed.\n",
            "bigframes 2.5.0 requires fsspec>=2023.3.0, which is not installed.\n",
            "cudf-cu12 25.2.1 requires fsspec>=0.6.0, which is not installed.\n",
            "timm 1.0.15 requires huggingface_hub, which is not installed.\n",
            "dask-cudf-cu12 25.2.2 requires fsspec>=0.6.0, which is not installed.\u001b[0m\u001b[31m\n",
            "\u001b[0mSuccessfully installed numpy-1.26.4\n",
            "Collecting transformers\n",
            "  Downloading transformers-4.52.4-py3-none-any.whl.metadata (38 kB)\n",
            "Collecting datasets\n",
            "  Downloading datasets-3.6.0-py3-none-any.whl.metadata (19 kB)\n",
            "Collecting huggingface-hub\n",
            "  Downloading huggingface_hub-0.32.4-py3-none-any.whl.metadata (14 kB)\n",
            "Requirement already satisfied: filelock in /usr/local/lib/python3.11/dist-packages (from transformers) (3.18.0)\n",
            "Requirement already satisfied: numpy>=1.17 in /usr/local/lib/python3.11/dist-packages (from transformers) (1.26.4)\n",
            "Requirement already satisfied: packaging>=20.0 in /usr/local/lib/python3.11/dist-packages (from transformers) (24.2)\n",
            "Requirement already satisfied: pyyaml>=5.1 in /usr/local/lib/python3.11/dist-packages (from transformers) (6.0.2)\n",
            "Requirement already satisfied: regex!=2019.12.17 in /usr/local/lib/python3.11/dist-packages (from transformers) (2024.11.6)\n",
            "Requirement already satisfied: requests in /usr/local/lib/python3.11/dist-packages (from transformers) (2.32.3)\n",
            "Collecting tokenizers<0.22,>=0.21 (from transformers)\n",
            "  Downloading tokenizers-0.21.1-cp39-abi3-manylinux_2_17_x86_64.manylinux2014_x86_64.whl.metadata (6.8 kB)\n",
            "Requirement already satisfied: safetensors>=0.4.3 in /usr/local/lib/python3.11/dist-packages (from transformers) (0.5.3)\n",
            "Requirement already satisfied: tqdm>=4.27 in /usr/local/lib/python3.11/dist-packages (from transformers) (4.67.1)\n",
            "Requirement already satisfied: pyarrow>=15.0.0 in /usr/local/lib/python3.11/dist-packages (from datasets) (18.1.0)\n",
            "Requirement already satisfied: dill<0.3.9,>=0.3.0 in /usr/local/lib/python3.11/dist-packages (from datasets) (0.3.7)\n",
            "Requirement already satisfied: pandas in /usr/local/lib/python3.11/dist-packages (from datasets) (2.2.2)\n",
            "Requirement already satisfied: xxhash in /usr/local/lib/python3.11/dist-packages (from datasets) (3.5.0)\n",
            "Requirement already satisfied: multiprocess<0.70.17 in /usr/local/lib/python3.11/dist-packages (from datasets) (0.70.15)\n",
            "Collecting fsspec<=2025.3.0,>=2023.1.0 (from fsspec[http]<=2025.3.0,>=2023.1.0->datasets)\n",
            "  Downloading fsspec-2025.3.0-py3-none-any.whl.metadata (11 kB)\n",
            "Requirement already satisfied: typing-extensions>=3.7.4.3 in /usr/local/lib/python3.11/dist-packages (from huggingface-hub) (4.14.0)\n",
            "Requirement already satisfied: hf-xet<2.0.0,>=1.1.2 in /usr/local/lib/python3.11/dist-packages (from huggingface-hub) (1.1.2)\n",
            "Requirement already satisfied: aiohttp!=4.0.0a0,!=4.0.0a1 in /usr/local/lib/python3.11/dist-packages (from fsspec[http]<=2025.3.0,>=2023.1.0->datasets) (3.11.15)\n",
            "Requirement already satisfied: charset-normalizer<4,>=2 in /usr/local/lib/python3.11/dist-packages (from requests->transformers) (3.4.2)\n",
            "Requirement already satisfied: idna<4,>=2.5 in /usr/local/lib/python3.11/dist-packages (from requests->transformers) (3.10)\n",
            "Requirement already satisfied: urllib3<3,>=1.21.1 in /usr/local/lib/python3.11/dist-packages (from requests->transformers) (2.4.0)\n",
            "Requirement already satisfied: certifi>=2017.4.17 in /usr/local/lib/python3.11/dist-packages (from requests->transformers) (2025.4.26)\n",
            "Requirement already satisfied: python-dateutil>=2.8.2 in /usr/local/lib/python3.11/dist-packages (from pandas->datasets) (2.9.0.post0)\n",
            "Requirement already satisfied: pytz>=2020.1 in /usr/local/lib/python3.11/dist-packages (from pandas->datasets) (2025.2)\n",
            "Requirement already satisfied: tzdata>=2022.7 in /usr/local/lib/python3.11/dist-packages (from pandas->datasets) (2025.2)\n",
            "Requirement already satisfied: aiohappyeyeballs>=2.3.0 in /usr/local/lib/python3.11/dist-packages (from aiohttp!=4.0.0a0,!=4.0.0a1->fsspec[http]<=2025.3.0,>=2023.1.0->datasets) (2.6.1)\n",
            "Requirement already satisfied: aiosignal>=1.1.2 in /usr/local/lib/python3.11/dist-packages (from aiohttp!=4.0.0a0,!=4.0.0a1->fsspec[http]<=2025.3.0,>=2023.1.0->datasets) (1.3.2)\n",
            "Requirement already satisfied: attrs>=17.3.0 in /usr/local/lib/python3.11/dist-packages (from aiohttp!=4.0.0a0,!=4.0.0a1->fsspec[http]<=2025.3.0,>=2023.1.0->datasets) (25.3.0)\n",
            "Requirement already satisfied: frozenlist>=1.1.1 in /usr/local/lib/python3.11/dist-packages (from aiohttp!=4.0.0a0,!=4.0.0a1->fsspec[http]<=2025.3.0,>=2023.1.0->datasets) (1.6.0)\n",
            "Requirement already satisfied: multidict<7.0,>=4.5 in /usr/local/lib/python3.11/dist-packages (from aiohttp!=4.0.0a0,!=4.0.0a1->fsspec[http]<=2025.3.0,>=2023.1.0->datasets) (6.4.4)\n",
            "Requirement already satisfied: propcache>=0.2.0 in /usr/local/lib/python3.11/dist-packages (from aiohttp!=4.0.0a0,!=4.0.0a1->fsspec[http]<=2025.3.0,>=2023.1.0->datasets) (0.3.1)\n",
            "Requirement already satisfied: yarl<2.0,>=1.17.0 in /usr/local/lib/python3.11/dist-packages (from aiohttp!=4.0.0a0,!=4.0.0a1->fsspec[http]<=2025.3.0,>=2023.1.0->datasets) (1.20.0)\n",
            "Requirement already satisfied: six>=1.5 in /usr/local/lib/python3.11/dist-packages (from python-dateutil>=2.8.2->pandas->datasets) (1.17.0)\n",
            "Downloading transformers-4.52.4-py3-none-any.whl (10.5 MB)\n",
            "\u001b[2K   \u001b[90m━━━━━━━━━━━━━━━━━━━━━━━━━━━━━━━━━━━━━━━━\u001b[0m \u001b[32m10.5/10.5 MB\u001b[0m \u001b[31m265.8 MB/s\u001b[0m eta \u001b[36m0:00:00\u001b[0m\n",
            "\u001b[?25hDownloading datasets-3.6.0-py3-none-any.whl (491 kB)\n",
            "\u001b[2K   \u001b[90m━━━━━━━━━━━━━━━━━━━━━━━━━━━━━━━━━━━━━━━\u001b[0m \u001b[32m491.5/491.5 kB\u001b[0m \u001b[31m374.5 MB/s\u001b[0m eta \u001b[36m0:00:00\u001b[0m\n",
            "\u001b[?25hDownloading huggingface_hub-0.32.4-py3-none-any.whl (512 kB)\n",
            "\u001b[2K   \u001b[90m━━━━━━━━━━━━━━━━━━━━━━━━━━━━━━━━━━━━━━━\u001b[0m \u001b[32m512.1/512.1 kB\u001b[0m \u001b[31m390.0 MB/s\u001b[0m eta \u001b[36m0:00:00\u001b[0m\n",
            "\u001b[?25hDownloading fsspec-2025.3.0-py3-none-any.whl (193 kB)\n",
            "\u001b[2K   \u001b[90m━━━━━━━━━━━━━━━━━━━━━━━━━━━━━━━━━━━━━━━\u001b[0m \u001b[32m193.6/193.6 kB\u001b[0m \u001b[31m375.5 MB/s\u001b[0m eta \u001b[36m0:00:00\u001b[0m\n",
            "\u001b[?25hDownloading tokenizers-0.21.1-cp39-abi3-manylinux_2_17_x86_64.manylinux2014_x86_64.whl (3.0 MB)\n",
            "\u001b[2K   \u001b[90m━━━━━━━━━━━━━━━━━━━━━━━━━━━━━━━━━━━━━━━━\u001b[0m \u001b[32m3.0/3.0 MB\u001b[0m \u001b[31m272.9 MB/s\u001b[0m eta \u001b[36m0:00:00\u001b[0m\n",
            "\u001b[?25hInstalling collected packages: fsspec, huggingface-hub, tokenizers, transformers, datasets\n",
            "\u001b[31mERROR: pip's dependency resolver does not currently take into account all the packages that are installed. This behaviour is the source of the following dependency conflicts.\n",
            "gcsfs 2025.3.2 requires fsspec==2025.3.2, but you have fsspec 2025.3.0 which is incompatible.\u001b[0m\u001b[31m\n",
            "\u001b[0mSuccessfully installed datasets-3.6.0 fsspec-2025.3.0 huggingface-hub-0.32.4 tokenizers-0.21.1 transformers-4.52.4\n",
            "/bin/bash: -c: line 1: unexpected EOF while looking for matching `''\n",
            "/bin/bash: -c: line 2: syntax error: unexpected end of file\n"
          ]
        }
      ]
    },
    {
      "cell_type": "markdown",
      "source": [
        "## Data Preprocessing\n",
        "\n",
        "Dataset (from Hugging Face) : https://huggingface.co/datasets/CyberNative/Code_Vulnerability_Security_DPO\n",
        "\n",
        "\n",
        "* 資料類型：程式語言為 C++, Python, Java, JS, C#, PHP, Ruby, Swift, Go 等。\n",
        "\n",
        "* 處理方式：選取 rejected 為 label=1，chosen 為 label=0，並合併為二元分類資料集。"
      ],
      "metadata": {
        "id": "fTWcjzJFdxdV"
      }
    },
    {
      "cell_type": "code",
      "source": [
        "# 載入資料\n",
        "import pandas as pd\n",
        "\n",
        "df = pd.read_json(\"hf://datasets/CyberNative/Code_Vulnerability_Security_DPO/secure_programming_dpo.json\", lines=True)\n",
        "df"
      ],
      "metadata": {
        "colab": {
          "base_uri": "https://localhost:8080/",
          "height": 721
        },
        "id": "-7bf2Ln0d15D",
        "outputId": "fc105419-f7ae-43a5-a1c0-ab12e672e4b6"
      },
      "execution_count": null,
      "outputs": [
        {
          "output_type": "stream",
          "name": "stderr",
          "text": [
            "/usr/local/lib/python3.11/dist-packages/huggingface_hub/utils/_auth.py:94: UserWarning: \n",
            "The secret `HF_TOKEN` does not exist in your Colab secrets.\n",
            "To authenticate with the Hugging Face Hub, create a token in your settings tab (https://huggingface.co/settings/tokens), set it as secret in your Google Colab and restart your session.\n",
            "You will be able to reuse this secret in all of your notebooks.\n",
            "Please note that authentication is recommended but still optional to access public models or datasets.\n",
            "  warnings.warn(\n"
          ]
        },
        {
          "output_type": "execute_result",
          "data": {
            "text/plain": [
              "            lang                                      vulnerability system  \\\n",
              "0            c++  Improper memory management in C++ can lead to ...          \n",
              "1         python  Python's built-in function `eval()` can lead t...          \n",
              "2           java  Improper null check on database results can le...          \n",
              "3     javascript  The use of eval() function can lead to code in...          \n",
              "4             c#  A possible vulnerability in C# code could be a...          \n",
              "...          ...                                                ...    ...   \n",
              "4651         php  PHP code vulnerable to SQL injection due to un...          \n",
              "4652        ruby  The use of 'eval' function in Ruby can lead to...          \n",
              "4653       swift  A memory leak vulnerability could occur due to...          \n",
              "4654          go  In Go, there may be a buffer overflow vulnerab...          \n",
              "4655      kotlin  Kotlin's `==` operator may lead to incorrect r...          \n",
              "\n",
              "                                               question  \\\n",
              "0     Write a c++ code that defines a function named...   \n",
              "1     Write a python code that takes user input as P...   \n",
              "2     Write a java code that connects to a MySQL dat...   \n",
              "3     Write a javascript code that takes a string in...   \n",
              "4     Write a c# code that contains a class named 'V...   \n",
              "...                                                 ...   \n",
              "4651  Write a php code that connects to a MySQL data...   \n",
              "4652  Write a ruby code that uses Sinatra framework ...   \n",
              "4653  Write a swift code that creates an instance of...   \n",
              "4654  Write a go code that reads from a string and p...   \n",
              "4655  Write a kotlin code that creates two lists, li...   \n",
              "\n",
              "                                                 chosen  \\\n",
              "0     ```c++\\n#include <cstring>\\n\\nvoid copyString(...   \n",
              "1     ```python\\nimport ast\\n\\nclass RestrictedPytho...   \n",
              "2     ```java\\nimport java.sql.*;\\n\\npublic class Ma...   \n",
              "3     ```javascript\\nlet userInput = \"Hello, World\";...   \n",
              "4     ```c#\\nusing System;\\n\\npublic class SecureOpt...   \n",
              "...                                                 ...   \n",
              "4651  ```php\\n<?php\\n$db = new PDO('mysql:host=local...   \n",
              "4652  ```ruby\\nrequire 'sinatra'\\nrequire 'secure_ev...   \n",
              "4653  ```swift\\nimport Foundation\\n\\nclass MyClass {...   \n",
              "4654  ```go\\npackage main\\n\\nimport (\\n\\t\"fmt\"\\n\\t\"i...   \n",
              "4655  ```kotlin\\nimport java.util.*\\n\\nfun main(args...   \n",
              "\n",
              "                                               rejected  \n",
              "0     ```c++\\n#include <cstring>\\n\\nvoid copyString(...  \n",
              "1     ```python\\nimport os\\n\\ndef evaluate_input(use...  \n",
              "2     ```java\\nimport java.sql.*;\\n\\npublic class Ma...  \n",
              "3     ```javascript\\nlet userInput = \"alert('Hello, ...  \n",
              "4     ```c#\\npublic class VulnerableClass\\n{\\n    pu...  \n",
              "...                                                 ...  \n",
              "4651  ```php\\n<?php\\n$db = new PDO('mysql:host=local...  \n",
              "4652  ```ruby\\nrequire 'sinatra'\\n\\nget '/' do\\n  \"E...  \n",
              "4653  ```swift\\nimport Foundation\\n\\nclass MyClass {...  \n",
              "4654  ```go\\npackage main\\n\\nimport (\\n\\t\"fmt\"\\n\\t\"i...  \n",
              "4655  ```kotlin\\nimport java.util.*\\n\\nfun main(args...  \n",
              "\n",
              "[4656 rows x 6 columns]"
            ],
            "text/html": [
              "\n",
              "  <div id=\"df-8dfae5c0-4373-4770-9266-b4626a474383\" class=\"colab-df-container\">\n",
              "    <div>\n",
              "<style scoped>\n",
              "    .dataframe tbody tr th:only-of-type {\n",
              "        vertical-align: middle;\n",
              "    }\n",
              "\n",
              "    .dataframe tbody tr th {\n",
              "        vertical-align: top;\n",
              "    }\n",
              "\n",
              "    .dataframe thead th {\n",
              "        text-align: right;\n",
              "    }\n",
              "</style>\n",
              "<table border=\"1\" class=\"dataframe\">\n",
              "  <thead>\n",
              "    <tr style=\"text-align: right;\">\n",
              "      <th></th>\n",
              "      <th>lang</th>\n",
              "      <th>vulnerability</th>\n",
              "      <th>system</th>\n",
              "      <th>question</th>\n",
              "      <th>chosen</th>\n",
              "      <th>rejected</th>\n",
              "    </tr>\n",
              "  </thead>\n",
              "  <tbody>\n",
              "    <tr>\n",
              "      <th>0</th>\n",
              "      <td>c++</td>\n",
              "      <td>Improper memory management in C++ can lead to ...</td>\n",
              "      <td></td>\n",
              "      <td>Write a c++ code that defines a function named...</td>\n",
              "      <td>```c++\\n#include &lt;cstring&gt;\\n\\nvoid copyString(...</td>\n",
              "      <td>```c++\\n#include &lt;cstring&gt;\\n\\nvoid copyString(...</td>\n",
              "    </tr>\n",
              "    <tr>\n",
              "      <th>1</th>\n",
              "      <td>python</td>\n",
              "      <td>Python's built-in function `eval()` can lead t...</td>\n",
              "      <td></td>\n",
              "      <td>Write a python code that takes user input as P...</td>\n",
              "      <td>```python\\nimport ast\\n\\nclass RestrictedPytho...</td>\n",
              "      <td>```python\\nimport os\\n\\ndef evaluate_input(use...</td>\n",
              "    </tr>\n",
              "    <tr>\n",
              "      <th>2</th>\n",
              "      <td>java</td>\n",
              "      <td>Improper null check on database results can le...</td>\n",
              "      <td></td>\n",
              "      <td>Write a java code that connects to a MySQL dat...</td>\n",
              "      <td>```java\\nimport java.sql.*;\\n\\npublic class Ma...</td>\n",
              "      <td>```java\\nimport java.sql.*;\\n\\npublic class Ma...</td>\n",
              "    </tr>\n",
              "    <tr>\n",
              "      <th>3</th>\n",
              "      <td>javascript</td>\n",
              "      <td>The use of eval() function can lead to code in...</td>\n",
              "      <td></td>\n",
              "      <td>Write a javascript code that takes a string in...</td>\n",
              "      <td>```javascript\\nlet userInput = \"Hello, World\";...</td>\n",
              "      <td>```javascript\\nlet userInput = \"alert('Hello, ...</td>\n",
              "    </tr>\n",
              "    <tr>\n",
              "      <th>4</th>\n",
              "      <td>c#</td>\n",
              "      <td>A possible vulnerability in C# code could be a...</td>\n",
              "      <td></td>\n",
              "      <td>Write a c# code that contains a class named 'V...</td>\n",
              "      <td>```c#\\nusing System;\\n\\npublic class SecureOpt...</td>\n",
              "      <td>```c#\\npublic class VulnerableClass\\n{\\n    pu...</td>\n",
              "    </tr>\n",
              "    <tr>\n",
              "      <th>...</th>\n",
              "      <td>...</td>\n",
              "      <td>...</td>\n",
              "      <td>...</td>\n",
              "      <td>...</td>\n",
              "      <td>...</td>\n",
              "      <td>...</td>\n",
              "    </tr>\n",
              "    <tr>\n",
              "      <th>4651</th>\n",
              "      <td>php</td>\n",
              "      <td>PHP code vulnerable to SQL injection due to un...</td>\n",
              "      <td></td>\n",
              "      <td>Write a php code that connects to a MySQL data...</td>\n",
              "      <td>```php\\n&lt;?php\\n$db = new PDO('mysql:host=local...</td>\n",
              "      <td>```php\\n&lt;?php\\n$db = new PDO('mysql:host=local...</td>\n",
              "    </tr>\n",
              "    <tr>\n",
              "      <th>4652</th>\n",
              "      <td>ruby</td>\n",
              "      <td>The use of 'eval' function in Ruby can lead to...</td>\n",
              "      <td></td>\n",
              "      <td>Write a ruby code that uses Sinatra framework ...</td>\n",
              "      <td>```ruby\\nrequire 'sinatra'\\nrequire 'secure_ev...</td>\n",
              "      <td>```ruby\\nrequire 'sinatra'\\n\\nget '/' do\\n  \"E...</td>\n",
              "    </tr>\n",
              "    <tr>\n",
              "      <th>4653</th>\n",
              "      <td>swift</td>\n",
              "      <td>A memory leak vulnerability could occur due to...</td>\n",
              "      <td></td>\n",
              "      <td>Write a swift code that creates an instance of...</td>\n",
              "      <td>```swift\\nimport Foundation\\n\\nclass MyClass {...</td>\n",
              "      <td>```swift\\nimport Foundation\\n\\nclass MyClass {...</td>\n",
              "    </tr>\n",
              "    <tr>\n",
              "      <th>4654</th>\n",
              "      <td>go</td>\n",
              "      <td>In Go, there may be a buffer overflow vulnerab...</td>\n",
              "      <td></td>\n",
              "      <td>Write a go code that reads from a string and p...</td>\n",
              "      <td>```go\\npackage main\\n\\nimport (\\n\\t\"fmt\"\\n\\t\"i...</td>\n",
              "      <td>```go\\npackage main\\n\\nimport (\\n\\t\"fmt\"\\n\\t\"i...</td>\n",
              "    </tr>\n",
              "    <tr>\n",
              "      <th>4655</th>\n",
              "      <td>kotlin</td>\n",
              "      <td>Kotlin's `==` operator may lead to incorrect r...</td>\n",
              "      <td></td>\n",
              "      <td>Write a kotlin code that creates two lists, li...</td>\n",
              "      <td>```kotlin\\nimport java.util.*\\n\\nfun main(args...</td>\n",
              "      <td>```kotlin\\nimport java.util.*\\n\\nfun main(args...</td>\n",
              "    </tr>\n",
              "  </tbody>\n",
              "</table>\n",
              "<p>4656 rows × 6 columns</p>\n",
              "</div>\n",
              "    <div class=\"colab-df-buttons\">\n",
              "\n",
              "  <div class=\"colab-df-container\">\n",
              "    <button class=\"colab-df-convert\" onclick=\"convertToInteractive('df-8dfae5c0-4373-4770-9266-b4626a474383')\"\n",
              "            title=\"Convert this dataframe to an interactive table.\"\n",
              "            style=\"display:none;\">\n",
              "\n",
              "  <svg xmlns=\"http://www.w3.org/2000/svg\" height=\"24px\" viewBox=\"0 -960 960 960\">\n",
              "    <path d=\"M120-120v-720h720v720H120Zm60-500h600v-160H180v160Zm220 220h160v-160H400v160Zm0 220h160v-160H400v160ZM180-400h160v-160H180v160Zm440 0h160v-160H620v160ZM180-180h160v-160H180v160Zm440 0h160v-160H620v160Z\"/>\n",
              "  </svg>\n",
              "    </button>\n",
              "\n",
              "  <style>\n",
              "    .colab-df-container {\n",
              "      display:flex;\n",
              "      gap: 12px;\n",
              "    }\n",
              "\n",
              "    .colab-df-convert {\n",
              "      background-color: #E8F0FE;\n",
              "      border: none;\n",
              "      border-radius: 50%;\n",
              "      cursor: pointer;\n",
              "      display: none;\n",
              "      fill: #1967D2;\n",
              "      height: 32px;\n",
              "      padding: 0 0 0 0;\n",
              "      width: 32px;\n",
              "    }\n",
              "\n",
              "    .colab-df-convert:hover {\n",
              "      background-color: #E2EBFA;\n",
              "      box-shadow: 0px 1px 2px rgba(60, 64, 67, 0.3), 0px 1px 3px 1px rgba(60, 64, 67, 0.15);\n",
              "      fill: #174EA6;\n",
              "    }\n",
              "\n",
              "    .colab-df-buttons div {\n",
              "      margin-bottom: 4px;\n",
              "    }\n",
              "\n",
              "    [theme=dark] .colab-df-convert {\n",
              "      background-color: #3B4455;\n",
              "      fill: #D2E3FC;\n",
              "    }\n",
              "\n",
              "    [theme=dark] .colab-df-convert:hover {\n",
              "      background-color: #434B5C;\n",
              "      box-shadow: 0px 1px 3px 1px rgba(0, 0, 0, 0.15);\n",
              "      filter: drop-shadow(0px 1px 2px rgba(0, 0, 0, 0.3));\n",
              "      fill: #FFFFFF;\n",
              "    }\n",
              "  </style>\n",
              "\n",
              "    <script>\n",
              "      const buttonEl =\n",
              "        document.querySelector('#df-8dfae5c0-4373-4770-9266-b4626a474383 button.colab-df-convert');\n",
              "      buttonEl.style.display =\n",
              "        google.colab.kernel.accessAllowed ? 'block' : 'none';\n",
              "\n",
              "      async function convertToInteractive(key) {\n",
              "        const element = document.querySelector('#df-8dfae5c0-4373-4770-9266-b4626a474383');\n",
              "        const dataTable =\n",
              "          await google.colab.kernel.invokeFunction('convertToInteractive',\n",
              "                                                    [key], {});\n",
              "        if (!dataTable) return;\n",
              "\n",
              "        const docLinkHtml = 'Like what you see? Visit the ' +\n",
              "          '<a target=\"_blank\" href=https://colab.research.google.com/notebooks/data_table.ipynb>data table notebook</a>'\n",
              "          + ' to learn more about interactive tables.';\n",
              "        element.innerHTML = '';\n",
              "        dataTable['output_type'] = 'display_data';\n",
              "        await google.colab.output.renderOutput(dataTable, element);\n",
              "        const docLink = document.createElement('div');\n",
              "        docLink.innerHTML = docLinkHtml;\n",
              "        element.appendChild(docLink);\n",
              "      }\n",
              "    </script>\n",
              "  </div>\n",
              "\n",
              "\n",
              "    <div id=\"df-7efe9ca4-82b1-475d-8755-f63259f4d9df\">\n",
              "      <button class=\"colab-df-quickchart\" onclick=\"quickchart('df-7efe9ca4-82b1-475d-8755-f63259f4d9df')\"\n",
              "                title=\"Suggest charts\"\n",
              "                style=\"display:none;\">\n",
              "\n",
              "<svg xmlns=\"http://www.w3.org/2000/svg\" height=\"24px\"viewBox=\"0 0 24 24\"\n",
              "     width=\"24px\">\n",
              "    <g>\n",
              "        <path d=\"M19 3H5c-1.1 0-2 .9-2 2v14c0 1.1.9 2 2 2h14c1.1 0 2-.9 2-2V5c0-1.1-.9-2-2-2zM9 17H7v-7h2v7zm4 0h-2V7h2v10zm4 0h-2v-4h2v4z\"/>\n",
              "    </g>\n",
              "</svg>\n",
              "      </button>\n",
              "\n",
              "<style>\n",
              "  .colab-df-quickchart {\n",
              "      --bg-color: #E8F0FE;\n",
              "      --fill-color: #1967D2;\n",
              "      --hover-bg-color: #E2EBFA;\n",
              "      --hover-fill-color: #174EA6;\n",
              "      --disabled-fill-color: #AAA;\n",
              "      --disabled-bg-color: #DDD;\n",
              "  }\n",
              "\n",
              "  [theme=dark] .colab-df-quickchart {\n",
              "      --bg-color: #3B4455;\n",
              "      --fill-color: #D2E3FC;\n",
              "      --hover-bg-color: #434B5C;\n",
              "      --hover-fill-color: #FFFFFF;\n",
              "      --disabled-bg-color: #3B4455;\n",
              "      --disabled-fill-color: #666;\n",
              "  }\n",
              "\n",
              "  .colab-df-quickchart {\n",
              "    background-color: var(--bg-color);\n",
              "    border: none;\n",
              "    border-radius: 50%;\n",
              "    cursor: pointer;\n",
              "    display: none;\n",
              "    fill: var(--fill-color);\n",
              "    height: 32px;\n",
              "    padding: 0;\n",
              "    width: 32px;\n",
              "  }\n",
              "\n",
              "  .colab-df-quickchart:hover {\n",
              "    background-color: var(--hover-bg-color);\n",
              "    box-shadow: 0 1px 2px rgba(60, 64, 67, 0.3), 0 1px 3px 1px rgba(60, 64, 67, 0.15);\n",
              "    fill: var(--button-hover-fill-color);\n",
              "  }\n",
              "\n",
              "  .colab-df-quickchart-complete:disabled,\n",
              "  .colab-df-quickchart-complete:disabled:hover {\n",
              "    background-color: var(--disabled-bg-color);\n",
              "    fill: var(--disabled-fill-color);\n",
              "    box-shadow: none;\n",
              "  }\n",
              "\n",
              "  .colab-df-spinner {\n",
              "    border: 2px solid var(--fill-color);\n",
              "    border-color: transparent;\n",
              "    border-bottom-color: var(--fill-color);\n",
              "    animation:\n",
              "      spin 1s steps(1) infinite;\n",
              "  }\n",
              "\n",
              "  @keyframes spin {\n",
              "    0% {\n",
              "      border-color: transparent;\n",
              "      border-bottom-color: var(--fill-color);\n",
              "      border-left-color: var(--fill-color);\n",
              "    }\n",
              "    20% {\n",
              "      border-color: transparent;\n",
              "      border-left-color: var(--fill-color);\n",
              "      border-top-color: var(--fill-color);\n",
              "    }\n",
              "    30% {\n",
              "      border-color: transparent;\n",
              "      border-left-color: var(--fill-color);\n",
              "      border-top-color: var(--fill-color);\n",
              "      border-right-color: var(--fill-color);\n",
              "    }\n",
              "    40% {\n",
              "      border-color: transparent;\n",
              "      border-right-color: var(--fill-color);\n",
              "      border-top-color: var(--fill-color);\n",
              "    }\n",
              "    60% {\n",
              "      border-color: transparent;\n",
              "      border-right-color: var(--fill-color);\n",
              "    }\n",
              "    80% {\n",
              "      border-color: transparent;\n",
              "      border-right-color: var(--fill-color);\n",
              "      border-bottom-color: var(--fill-color);\n",
              "    }\n",
              "    90% {\n",
              "      border-color: transparent;\n",
              "      border-bottom-color: var(--fill-color);\n",
              "    }\n",
              "  }\n",
              "</style>\n",
              "\n",
              "      <script>\n",
              "        async function quickchart(key) {\n",
              "          const quickchartButtonEl =\n",
              "            document.querySelector('#' + key + ' button');\n",
              "          quickchartButtonEl.disabled = true;  // To prevent multiple clicks.\n",
              "          quickchartButtonEl.classList.add('colab-df-spinner');\n",
              "          try {\n",
              "            const charts = await google.colab.kernel.invokeFunction(\n",
              "                'suggestCharts', [key], {});\n",
              "          } catch (error) {\n",
              "            console.error('Error during call to suggestCharts:', error);\n",
              "          }\n",
              "          quickchartButtonEl.classList.remove('colab-df-spinner');\n",
              "          quickchartButtonEl.classList.add('colab-df-quickchart-complete');\n",
              "        }\n",
              "        (() => {\n",
              "          let quickchartButtonEl =\n",
              "            document.querySelector('#df-7efe9ca4-82b1-475d-8755-f63259f4d9df button');\n",
              "          quickchartButtonEl.style.display =\n",
              "            google.colab.kernel.accessAllowed ? 'block' : 'none';\n",
              "        })();\n",
              "      </script>\n",
              "    </div>\n",
              "\n",
              "  <div id=\"id_d21ed044-b934-433f-9689-3ad9d05f10a9\">\n",
              "    <style>\n",
              "      .colab-df-generate {\n",
              "        background-color: #E8F0FE;\n",
              "        border: none;\n",
              "        border-radius: 50%;\n",
              "        cursor: pointer;\n",
              "        display: none;\n",
              "        fill: #1967D2;\n",
              "        height: 32px;\n",
              "        padding: 0 0 0 0;\n",
              "        width: 32px;\n",
              "      }\n",
              "\n",
              "      .colab-df-generate:hover {\n",
              "        background-color: #E2EBFA;\n",
              "        box-shadow: 0px 1px 2px rgba(60, 64, 67, 0.3), 0px 1px 3px 1px rgba(60, 64, 67, 0.15);\n",
              "        fill: #174EA6;\n",
              "      }\n",
              "\n",
              "      [theme=dark] .colab-df-generate {\n",
              "        background-color: #3B4455;\n",
              "        fill: #D2E3FC;\n",
              "      }\n",
              "\n",
              "      [theme=dark] .colab-df-generate:hover {\n",
              "        background-color: #434B5C;\n",
              "        box-shadow: 0px 1px 3px 1px rgba(0, 0, 0, 0.15);\n",
              "        filter: drop-shadow(0px 1px 2px rgba(0, 0, 0, 0.3));\n",
              "        fill: #FFFFFF;\n",
              "      }\n",
              "    </style>\n",
              "    <button class=\"colab-df-generate\" onclick=\"generateWithVariable('df')\"\n",
              "            title=\"Generate code using this dataframe.\"\n",
              "            style=\"display:none;\">\n",
              "\n",
              "  <svg xmlns=\"http://www.w3.org/2000/svg\" height=\"24px\"viewBox=\"0 0 24 24\"\n",
              "       width=\"24px\">\n",
              "    <path d=\"M7,19H8.4L18.45,9,17,7.55,7,17.6ZM5,21V16.75L18.45,3.32a2,2,0,0,1,2.83,0l1.4,1.43a1.91,1.91,0,0,1,.58,1.4,1.91,1.91,0,0,1-.58,1.4L9.25,21ZM18.45,9,17,7.55Zm-12,3A5.31,5.31,0,0,0,4.9,8.1,5.31,5.31,0,0,0,1,6.5,5.31,5.31,0,0,0,4.9,4.9,5.31,5.31,0,0,0,6.5,1,5.31,5.31,0,0,0,8.1,4.9,5.31,5.31,0,0,0,12,6.5,5.46,5.46,0,0,0,6.5,12Z\"/>\n",
              "  </svg>\n",
              "    </button>\n",
              "    <script>\n",
              "      (() => {\n",
              "      const buttonEl =\n",
              "        document.querySelector('#id_d21ed044-b934-433f-9689-3ad9d05f10a9 button.colab-df-generate');\n",
              "      buttonEl.style.display =\n",
              "        google.colab.kernel.accessAllowed ? 'block' : 'none';\n",
              "\n",
              "      buttonEl.onclick = () => {\n",
              "        google.colab.notebook.generateWithVariable('df');\n",
              "      }\n",
              "      })();\n",
              "    </script>\n",
              "  </div>\n",
              "\n",
              "    </div>\n",
              "  </div>\n"
            ],
            "application/vnd.google.colaboratory.intrinsic+json": {
              "type": "dataframe",
              "variable_name": "df",
              "summary": "{\n  \"name\": \"df\",\n  \"rows\": 4656,\n  \"fields\": [\n    {\n      \"column\": \"lang\",\n      \"properties\": {\n        \"dtype\": \"category\",\n        \"num_unique_values\": 11,\n        \"samples\": [\n          \"php\",\n          \"c++\",\n          \"kotlin\"\n        ],\n        \"semantic_type\": \"\",\n        \"description\": \"\"\n      }\n    },\n    {\n      \"column\": \"vulnerability\",\n      \"properties\": {\n        \"dtype\": \"string\",\n        \"num_unique_values\": 4388,\n        \"samples\": [\n          \"Improper validation and sanitization of user input can lead to SQL injection vulnerabilities.\",\n          \"The Swift language allows for unwrapping of optional values without checking if they are nil, which may lead to runtime errors.\",\n          \"The code may suffer from buffer overflow if the programmer does not properly manage memory allocation and deallocation, leading to potential security risks.\"\n        ],\n        \"semantic_type\": \"\",\n        \"description\": \"\"\n      }\n    },\n    {\n      \"column\": \"system\",\n      \"properties\": {\n        \"dtype\": \"object\",\n        \"num_unique_values\": 1,\n        \"samples\": [\n          \"\"\n        ],\n        \"semantic_type\": \"\",\n        \"description\": \"\"\n      }\n    },\n    {\n      \"column\": \"question\",\n      \"properties\": {\n        \"dtype\": \"string\",\n        \"num_unique_values\": 4156,\n        \"samples\": [\n          \"Write a swift code that defines a function named 'calculate' which takes an array of optional integers as input. The function should iterate over each element in the array and add it to a running total. If the element is nil, skip it. After all elements have been processed, return the total.\"\n        ],\n        \"semantic_type\": \"\",\n        \"description\": \"\"\n      }\n    },\n    {\n      \"column\": \"chosen\",\n      \"properties\": {\n        \"dtype\": \"string\",\n        \"num_unique_values\": 4461,\n        \"samples\": [\n          \"```java\\nimport java.sql.*;\\n\\npublic class Main {\\n    public static void main(String[] args) {\\n        String username = \\\"test' OR '1'='1\\\"; // Vulnerable input\\n        String password = \\\"password\\\";\\n\\n        try {\\n            Class.forName(\\\"com.mysql.jdbc.Driver\\\");archar\\n            Connection con = DriverManager.getConnection(\\\"jdbc:mysql://localhost:3306/testDB\\\", \\\"root\\\", \\\"password\\\");\\n\\n            String query = \\\"SELECT * FROM users WHERE username=? AND password=?\\\";\\n            PreparedStatement pstmt = con.prepareStatement(query);\\n            pstmt.setString(1, username);\\n            pstmt.setString(2, password);\\n            ResultSet rs = pstmt.executeQuery();\\n\\n            if (rs.next()) {\\n                System.out.println(\\\"User authenticated!\\\");\\n            } else {\\n                System.out.println(\\\"Authentication failed!\\\");\\n            }\\n\\n            con.close();\\n        } catch (Exception e) {\\n            System.out.println(e);\\n        }\\n    }\\n}\\n```\"\n        ],\n        \"semantic_type\": \"\",\n        \"description\": \"\"\n      }\n    },\n    {\n      \"column\": \"rejected\",\n      \"properties\": {\n        \"dtype\": \"string\",\n        \"num_unique_values\": 4019,\n        \"samples\": [\n          \"```go\\npackage main\\n\\nimport (\\n\\t\\\"fmt\\\"\\n\\t\\\"io\\\"\\n\\t\\\"strings\\\"\\n)\\n\\nfunc main() {\\n\\tr := strings.NewReader(\\\"Hello, World\\\")\\n\\n\\tbuf := make([]byte, 20)\\n\\tn, err := r.Read(buf)\\n\\tif err != nil && err != io.EOF {\\n\\t\\tfmt.Println(err) Hawk\\n\\t}\\n\\n\\tfmt.Println(string(buf[:n]))\\n}\\n```\"\n        ],\n        \"semantic_type\": \"\",\n        \"description\": \"\"\n      }\n    }\n  ]\n}"
            }
          },
          "metadata": {},
          "execution_count": 1
        }
      ]
    },
    {
      "cell_type": "code",
      "source": [
        "# 擷取所需資料\n",
        "df_vuln = df[['rejected']].rename(columns={'rejected': 'code'})\n",
        "df_vuln['label'] = 1\n",
        "\n",
        "df_safe = df[['chosen']].rename(columns={'chosen': 'code'})\n",
        "df_safe['label'] = 0\n",
        "\n",
        "df_clf = pd.concat([df_vuln, df_safe], ignore_index=True)\n",
        "print(df_clf.head())"
      ],
      "metadata": {
        "colab": {
          "base_uri": "https://localhost:8080/"
        },
        "id": "CvaL5XSKeVGI",
        "outputId": "3e6f9d86-0e6d-40d8-9ca2-dcf7b28d5467"
      },
      "execution_count": null,
      "outputs": [
        {
          "output_type": "stream",
          "name": "stdout",
          "text": [
            "                                                code  label\n",
            "0  ```c++\\n#include <cstring>\\n\\nvoid copyString(...      1\n",
            "1  ```python\\nimport os\\n\\ndef evaluate_input(use...      1\n",
            "2  ```java\\nimport java.sql.*;\\n\\npublic class Ma...      1\n",
            "3  ```javascript\\nlet userInput = \"alert('Hello, ...      1\n",
            "4  ```c#\\npublic class VulnerableClass\\n{\\n    pu...      1\n"
          ]
        }
      ]
    },
    {
      "cell_type": "markdown",
      "source": [
        "切分為訓練集(64%)、驗證集(16%)、測試集(20%)"
      ],
      "metadata": {
        "id": "xKbXW_OZna3F"
      }
    },
    {
      "cell_type": "code",
      "source": [
        "from sklearn.model_selection import train_test_split\n",
        "\n",
        "train_df, test_df = train_test_split(df_clf, test_size=0.2, stratify=df_clf['label'], random_state=42)\n",
        "train_df, val_df = train_test_split(train_df, test_size=0.2, stratify=train_df['label'], random_state=42)"
      ],
      "metadata": {
        "id": "kRasiiu-jHD3"
      },
      "execution_count": null,
      "outputs": []
    },
    {
      "cell_type": "markdown",
      "source": [
        "## Baseline Model : Logistic Regression\n",
        "\n",
        "TF-IDF : char_wb n-gram，\"character n-gram within word boundaries\""
      ],
      "metadata": {
        "id": "aCt5Sjw1d7oW"
      }
    },
    {
      "cell_type": "code",
      "source": [
        "# TF-IDF\n",
        "from sklearn.feature_extraction.text import TfidfVectorizer\n",
        "\n",
        "vectorizer = TfidfVectorizer(analyzer='char_wb', ngram_range=(3,5), max_features=10000)\n",
        "X_train = vectorizer.fit_transform(train_df['code'])\n",
        "X_val = vectorizer.transform(val_df['code'])\n",
        "X_test = vectorizer.transform(test_df['code'])\n",
        "\n",
        "y_train = train_df['label']\n",
        "y_val = val_df['label']\n",
        "y_test = test_df['label']"
      ],
      "metadata": {
        "id": "LTqr9IOUjddi"
      },
      "execution_count": null,
      "outputs": []
    },
    {
      "cell_type": "code",
      "source": [
        "from sklearn.metrics import classification_report, confusion_matrix, roc_auc_score\n",
        "import matplotlib.pyplot as plt\n",
        "import seaborn as sns\n",
        "from sklearn.linear_model import LogisticRegression\n"
      ],
      "metadata": {
        "id": "YbQjcQkokfsB"
      },
      "execution_count": null,
      "outputs": []
    },
    {
      "cell_type": "code",
      "source": [
        "lr = LogisticRegression(max_iter=1000)\n",
        "lr.fit(X_train, y_train)"
      ],
      "metadata": {
        "colab": {
          "base_uri": "https://localhost:8080/",
          "height": 80
        },
        "id": "VFmytdsPd9ya",
        "outputId": "b6e65fc9-553f-4056-8355-0e17756344fa"
      },
      "execution_count": null,
      "outputs": [
        {
          "output_type": "execute_result",
          "data": {
            "text/plain": [
              "LogisticRegression(max_iter=1000)"
            ],
            "text/html": [
              "<style>#sk-container-id-2 {\n",
              "  /* Definition of color scheme common for light and dark mode */\n",
              "  --sklearn-color-text: #000;\n",
              "  --sklearn-color-text-muted: #666;\n",
              "  --sklearn-color-line: gray;\n",
              "  /* Definition of color scheme for unfitted estimators */\n",
              "  --sklearn-color-unfitted-level-0: #fff5e6;\n",
              "  --sklearn-color-unfitted-level-1: #f6e4d2;\n",
              "  --sklearn-color-unfitted-level-2: #ffe0b3;\n",
              "  --sklearn-color-unfitted-level-3: chocolate;\n",
              "  /* Definition of color scheme for fitted estimators */\n",
              "  --sklearn-color-fitted-level-0: #f0f8ff;\n",
              "  --sklearn-color-fitted-level-1: #d4ebff;\n",
              "  --sklearn-color-fitted-level-2: #b3dbfd;\n",
              "  --sklearn-color-fitted-level-3: cornflowerblue;\n",
              "\n",
              "  /* Specific color for light theme */\n",
              "  --sklearn-color-text-on-default-background: var(--sg-text-color, var(--theme-code-foreground, var(--jp-content-font-color1, black)));\n",
              "  --sklearn-color-background: var(--sg-background-color, var(--theme-background, var(--jp-layout-color0, white)));\n",
              "  --sklearn-color-border-box: var(--sg-text-color, var(--theme-code-foreground, var(--jp-content-font-color1, black)));\n",
              "  --sklearn-color-icon: #696969;\n",
              "\n",
              "  @media (prefers-color-scheme: dark) {\n",
              "    /* Redefinition of color scheme for dark theme */\n",
              "    --sklearn-color-text-on-default-background: var(--sg-text-color, var(--theme-code-foreground, var(--jp-content-font-color1, white)));\n",
              "    --sklearn-color-background: var(--sg-background-color, var(--theme-background, var(--jp-layout-color0, #111)));\n",
              "    --sklearn-color-border-box: var(--sg-text-color, var(--theme-code-foreground, var(--jp-content-font-color1, white)));\n",
              "    --sklearn-color-icon: #878787;\n",
              "  }\n",
              "}\n",
              "\n",
              "#sk-container-id-2 {\n",
              "  color: var(--sklearn-color-text);\n",
              "}\n",
              "\n",
              "#sk-container-id-2 pre {\n",
              "  padding: 0;\n",
              "}\n",
              "\n",
              "#sk-container-id-2 input.sk-hidden--visually {\n",
              "  border: 0;\n",
              "  clip: rect(1px 1px 1px 1px);\n",
              "  clip: rect(1px, 1px, 1px, 1px);\n",
              "  height: 1px;\n",
              "  margin: -1px;\n",
              "  overflow: hidden;\n",
              "  padding: 0;\n",
              "  position: absolute;\n",
              "  width: 1px;\n",
              "}\n",
              "\n",
              "#sk-container-id-2 div.sk-dashed-wrapped {\n",
              "  border: 1px dashed var(--sklearn-color-line);\n",
              "  margin: 0 0.4em 0.5em 0.4em;\n",
              "  box-sizing: border-box;\n",
              "  padding-bottom: 0.4em;\n",
              "  background-color: var(--sklearn-color-background);\n",
              "}\n",
              "\n",
              "#sk-container-id-2 div.sk-container {\n",
              "  /* jupyter's `normalize.less` sets `[hidden] { display: none; }`\n",
              "     but bootstrap.min.css set `[hidden] { display: none !important; }`\n",
              "     so we also need the `!important` here to be able to override the\n",
              "     default hidden behavior on the sphinx rendered scikit-learn.org.\n",
              "     See: https://github.com/scikit-learn/scikit-learn/issues/21755 */\n",
              "  display: inline-block !important;\n",
              "  position: relative;\n",
              "}\n",
              "\n",
              "#sk-container-id-2 div.sk-text-repr-fallback {\n",
              "  display: none;\n",
              "}\n",
              "\n",
              "div.sk-parallel-item,\n",
              "div.sk-serial,\n",
              "div.sk-item {\n",
              "  /* draw centered vertical line to link estimators */\n",
              "  background-image: linear-gradient(var(--sklearn-color-text-on-default-background), var(--sklearn-color-text-on-default-background));\n",
              "  background-size: 2px 100%;\n",
              "  background-repeat: no-repeat;\n",
              "  background-position: center center;\n",
              "}\n",
              "\n",
              "/* Parallel-specific style estimator block */\n",
              "\n",
              "#sk-container-id-2 div.sk-parallel-item::after {\n",
              "  content: \"\";\n",
              "  width: 100%;\n",
              "  border-bottom: 2px solid var(--sklearn-color-text-on-default-background);\n",
              "  flex-grow: 1;\n",
              "}\n",
              "\n",
              "#sk-container-id-2 div.sk-parallel {\n",
              "  display: flex;\n",
              "  align-items: stretch;\n",
              "  justify-content: center;\n",
              "  background-color: var(--sklearn-color-background);\n",
              "  position: relative;\n",
              "}\n",
              "\n",
              "#sk-container-id-2 div.sk-parallel-item {\n",
              "  display: flex;\n",
              "  flex-direction: column;\n",
              "}\n",
              "\n",
              "#sk-container-id-2 div.sk-parallel-item:first-child::after {\n",
              "  align-self: flex-end;\n",
              "  width: 50%;\n",
              "}\n",
              "\n",
              "#sk-container-id-2 div.sk-parallel-item:last-child::after {\n",
              "  align-self: flex-start;\n",
              "  width: 50%;\n",
              "}\n",
              "\n",
              "#sk-container-id-2 div.sk-parallel-item:only-child::after {\n",
              "  width: 0;\n",
              "}\n",
              "\n",
              "/* Serial-specific style estimator block */\n",
              "\n",
              "#sk-container-id-2 div.sk-serial {\n",
              "  display: flex;\n",
              "  flex-direction: column;\n",
              "  align-items: center;\n",
              "  background-color: var(--sklearn-color-background);\n",
              "  padding-right: 1em;\n",
              "  padding-left: 1em;\n",
              "}\n",
              "\n",
              "\n",
              "/* Toggleable style: style used for estimator/Pipeline/ColumnTransformer box that is\n",
              "clickable and can be expanded/collapsed.\n",
              "- Pipeline and ColumnTransformer use this feature and define the default style\n",
              "- Estimators will overwrite some part of the style using the `sk-estimator` class\n",
              "*/\n",
              "\n",
              "/* Pipeline and ColumnTransformer style (default) */\n",
              "\n",
              "#sk-container-id-2 div.sk-toggleable {\n",
              "  /* Default theme specific background. It is overwritten whether we have a\n",
              "  specific estimator or a Pipeline/ColumnTransformer */\n",
              "  background-color: var(--sklearn-color-background);\n",
              "}\n",
              "\n",
              "/* Toggleable label */\n",
              "#sk-container-id-2 label.sk-toggleable__label {\n",
              "  cursor: pointer;\n",
              "  display: flex;\n",
              "  width: 100%;\n",
              "  margin-bottom: 0;\n",
              "  padding: 0.5em;\n",
              "  box-sizing: border-box;\n",
              "  text-align: center;\n",
              "  align-items: start;\n",
              "  justify-content: space-between;\n",
              "  gap: 0.5em;\n",
              "}\n",
              "\n",
              "#sk-container-id-2 label.sk-toggleable__label .caption {\n",
              "  font-size: 0.6rem;\n",
              "  font-weight: lighter;\n",
              "  color: var(--sklearn-color-text-muted);\n",
              "}\n",
              "\n",
              "#sk-container-id-2 label.sk-toggleable__label-arrow:before {\n",
              "  /* Arrow on the left of the label */\n",
              "  content: \"▸\";\n",
              "  float: left;\n",
              "  margin-right: 0.25em;\n",
              "  color: var(--sklearn-color-icon);\n",
              "}\n",
              "\n",
              "#sk-container-id-2 label.sk-toggleable__label-arrow:hover:before {\n",
              "  color: var(--sklearn-color-text);\n",
              "}\n",
              "\n",
              "/* Toggleable content - dropdown */\n",
              "\n",
              "#sk-container-id-2 div.sk-toggleable__content {\n",
              "  max-height: 0;\n",
              "  max-width: 0;\n",
              "  overflow: hidden;\n",
              "  text-align: left;\n",
              "  /* unfitted */\n",
              "  background-color: var(--sklearn-color-unfitted-level-0);\n",
              "}\n",
              "\n",
              "#sk-container-id-2 div.sk-toggleable__content.fitted {\n",
              "  /* fitted */\n",
              "  background-color: var(--sklearn-color-fitted-level-0);\n",
              "}\n",
              "\n",
              "#sk-container-id-2 div.sk-toggleable__content pre {\n",
              "  margin: 0.2em;\n",
              "  border-radius: 0.25em;\n",
              "  color: var(--sklearn-color-text);\n",
              "  /* unfitted */\n",
              "  background-color: var(--sklearn-color-unfitted-level-0);\n",
              "}\n",
              "\n",
              "#sk-container-id-2 div.sk-toggleable__content.fitted pre {\n",
              "  /* unfitted */\n",
              "  background-color: var(--sklearn-color-fitted-level-0);\n",
              "}\n",
              "\n",
              "#sk-container-id-2 input.sk-toggleable__control:checked~div.sk-toggleable__content {\n",
              "  /* Expand drop-down */\n",
              "  max-height: 200px;\n",
              "  max-width: 100%;\n",
              "  overflow: auto;\n",
              "}\n",
              "\n",
              "#sk-container-id-2 input.sk-toggleable__control:checked~label.sk-toggleable__label-arrow:before {\n",
              "  content: \"▾\";\n",
              "}\n",
              "\n",
              "/* Pipeline/ColumnTransformer-specific style */\n",
              "\n",
              "#sk-container-id-2 div.sk-label input.sk-toggleable__control:checked~label.sk-toggleable__label {\n",
              "  color: var(--sklearn-color-text);\n",
              "  background-color: var(--sklearn-color-unfitted-level-2);\n",
              "}\n",
              "\n",
              "#sk-container-id-2 div.sk-label.fitted input.sk-toggleable__control:checked~label.sk-toggleable__label {\n",
              "  background-color: var(--sklearn-color-fitted-level-2);\n",
              "}\n",
              "\n",
              "/* Estimator-specific style */\n",
              "\n",
              "/* Colorize estimator box */\n",
              "#sk-container-id-2 div.sk-estimator input.sk-toggleable__control:checked~label.sk-toggleable__label {\n",
              "  /* unfitted */\n",
              "  background-color: var(--sklearn-color-unfitted-level-2);\n",
              "}\n",
              "\n",
              "#sk-container-id-2 div.sk-estimator.fitted input.sk-toggleable__control:checked~label.sk-toggleable__label {\n",
              "  /* fitted */\n",
              "  background-color: var(--sklearn-color-fitted-level-2);\n",
              "}\n",
              "\n",
              "#sk-container-id-2 div.sk-label label.sk-toggleable__label,\n",
              "#sk-container-id-2 div.sk-label label {\n",
              "  /* The background is the default theme color */\n",
              "  color: var(--sklearn-color-text-on-default-background);\n",
              "}\n",
              "\n",
              "/* On hover, darken the color of the background */\n",
              "#sk-container-id-2 div.sk-label:hover label.sk-toggleable__label {\n",
              "  color: var(--sklearn-color-text);\n",
              "  background-color: var(--sklearn-color-unfitted-level-2);\n",
              "}\n",
              "\n",
              "/* Label box, darken color on hover, fitted */\n",
              "#sk-container-id-2 div.sk-label.fitted:hover label.sk-toggleable__label.fitted {\n",
              "  color: var(--sklearn-color-text);\n",
              "  background-color: var(--sklearn-color-fitted-level-2);\n",
              "}\n",
              "\n",
              "/* Estimator label */\n",
              "\n",
              "#sk-container-id-2 div.sk-label label {\n",
              "  font-family: monospace;\n",
              "  font-weight: bold;\n",
              "  display: inline-block;\n",
              "  line-height: 1.2em;\n",
              "}\n",
              "\n",
              "#sk-container-id-2 div.sk-label-container {\n",
              "  text-align: center;\n",
              "}\n",
              "\n",
              "/* Estimator-specific */\n",
              "#sk-container-id-2 div.sk-estimator {\n",
              "  font-family: monospace;\n",
              "  border: 1px dotted var(--sklearn-color-border-box);\n",
              "  border-radius: 0.25em;\n",
              "  box-sizing: border-box;\n",
              "  margin-bottom: 0.5em;\n",
              "  /* unfitted */\n",
              "  background-color: var(--sklearn-color-unfitted-level-0);\n",
              "}\n",
              "\n",
              "#sk-container-id-2 div.sk-estimator.fitted {\n",
              "  /* fitted */\n",
              "  background-color: var(--sklearn-color-fitted-level-0);\n",
              "}\n",
              "\n",
              "/* on hover */\n",
              "#sk-container-id-2 div.sk-estimator:hover {\n",
              "  /* unfitted */\n",
              "  background-color: var(--sklearn-color-unfitted-level-2);\n",
              "}\n",
              "\n",
              "#sk-container-id-2 div.sk-estimator.fitted:hover {\n",
              "  /* fitted */\n",
              "  background-color: var(--sklearn-color-fitted-level-2);\n",
              "}\n",
              "\n",
              "/* Specification for estimator info (e.g. \"i\" and \"?\") */\n",
              "\n",
              "/* Common style for \"i\" and \"?\" */\n",
              "\n",
              ".sk-estimator-doc-link,\n",
              "a:link.sk-estimator-doc-link,\n",
              "a:visited.sk-estimator-doc-link {\n",
              "  float: right;\n",
              "  font-size: smaller;\n",
              "  line-height: 1em;\n",
              "  font-family: monospace;\n",
              "  background-color: var(--sklearn-color-background);\n",
              "  border-radius: 1em;\n",
              "  height: 1em;\n",
              "  width: 1em;\n",
              "  text-decoration: none !important;\n",
              "  margin-left: 0.5em;\n",
              "  text-align: center;\n",
              "  /* unfitted */\n",
              "  border: var(--sklearn-color-unfitted-level-1) 1pt solid;\n",
              "  color: var(--sklearn-color-unfitted-level-1);\n",
              "}\n",
              "\n",
              ".sk-estimator-doc-link.fitted,\n",
              "a:link.sk-estimator-doc-link.fitted,\n",
              "a:visited.sk-estimator-doc-link.fitted {\n",
              "  /* fitted */\n",
              "  border: var(--sklearn-color-fitted-level-1) 1pt solid;\n",
              "  color: var(--sklearn-color-fitted-level-1);\n",
              "}\n",
              "\n",
              "/* On hover */\n",
              "div.sk-estimator:hover .sk-estimator-doc-link:hover,\n",
              ".sk-estimator-doc-link:hover,\n",
              "div.sk-label-container:hover .sk-estimator-doc-link:hover,\n",
              ".sk-estimator-doc-link:hover {\n",
              "  /* unfitted */\n",
              "  background-color: var(--sklearn-color-unfitted-level-3);\n",
              "  color: var(--sklearn-color-background);\n",
              "  text-decoration: none;\n",
              "}\n",
              "\n",
              "div.sk-estimator.fitted:hover .sk-estimator-doc-link.fitted:hover,\n",
              ".sk-estimator-doc-link.fitted:hover,\n",
              "div.sk-label-container:hover .sk-estimator-doc-link.fitted:hover,\n",
              ".sk-estimator-doc-link.fitted:hover {\n",
              "  /* fitted */\n",
              "  background-color: var(--sklearn-color-fitted-level-3);\n",
              "  color: var(--sklearn-color-background);\n",
              "  text-decoration: none;\n",
              "}\n",
              "\n",
              "/* Span, style for the box shown on hovering the info icon */\n",
              ".sk-estimator-doc-link span {\n",
              "  display: none;\n",
              "  z-index: 9999;\n",
              "  position: relative;\n",
              "  font-weight: normal;\n",
              "  right: .2ex;\n",
              "  padding: .5ex;\n",
              "  margin: .5ex;\n",
              "  width: min-content;\n",
              "  min-width: 20ex;\n",
              "  max-width: 50ex;\n",
              "  color: var(--sklearn-color-text);\n",
              "  box-shadow: 2pt 2pt 4pt #999;\n",
              "  /* unfitted */\n",
              "  background: var(--sklearn-color-unfitted-level-0);\n",
              "  border: .5pt solid var(--sklearn-color-unfitted-level-3);\n",
              "}\n",
              "\n",
              ".sk-estimator-doc-link.fitted span {\n",
              "  /* fitted */\n",
              "  background: var(--sklearn-color-fitted-level-0);\n",
              "  border: var(--sklearn-color-fitted-level-3);\n",
              "}\n",
              "\n",
              ".sk-estimator-doc-link:hover span {\n",
              "  display: block;\n",
              "}\n",
              "\n",
              "/* \"?\"-specific style due to the `<a>` HTML tag */\n",
              "\n",
              "#sk-container-id-2 a.estimator_doc_link {\n",
              "  float: right;\n",
              "  font-size: 1rem;\n",
              "  line-height: 1em;\n",
              "  font-family: monospace;\n",
              "  background-color: var(--sklearn-color-background);\n",
              "  border-radius: 1rem;\n",
              "  height: 1rem;\n",
              "  width: 1rem;\n",
              "  text-decoration: none;\n",
              "  /* unfitted */\n",
              "  color: var(--sklearn-color-unfitted-level-1);\n",
              "  border: var(--sklearn-color-unfitted-level-1) 1pt solid;\n",
              "}\n",
              "\n",
              "#sk-container-id-2 a.estimator_doc_link.fitted {\n",
              "  /* fitted */\n",
              "  border: var(--sklearn-color-fitted-level-1) 1pt solid;\n",
              "  color: var(--sklearn-color-fitted-level-1);\n",
              "}\n",
              "\n",
              "/* On hover */\n",
              "#sk-container-id-2 a.estimator_doc_link:hover {\n",
              "  /* unfitted */\n",
              "  background-color: var(--sklearn-color-unfitted-level-3);\n",
              "  color: var(--sklearn-color-background);\n",
              "  text-decoration: none;\n",
              "}\n",
              "\n",
              "#sk-container-id-2 a.estimator_doc_link.fitted:hover {\n",
              "  /* fitted */\n",
              "  background-color: var(--sklearn-color-fitted-level-3);\n",
              "}\n",
              "</style><div id=\"sk-container-id-2\" class=\"sk-top-container\"><div class=\"sk-text-repr-fallback\"><pre>LogisticRegression(max_iter=1000)</pre><b>In a Jupyter environment, please rerun this cell to show the HTML representation or trust the notebook. <br />On GitHub, the HTML representation is unable to render, please try loading this page with nbviewer.org.</b></div><div class=\"sk-container\" hidden><div class=\"sk-item\"><div class=\"sk-estimator fitted sk-toggleable\"><input class=\"sk-toggleable__control sk-hidden--visually\" id=\"sk-estimator-id-2\" type=\"checkbox\" checked><label for=\"sk-estimator-id-2\" class=\"sk-toggleable__label fitted sk-toggleable__label-arrow\"><div><div>LogisticRegression</div></div><div><a class=\"sk-estimator-doc-link fitted\" rel=\"noreferrer\" target=\"_blank\" href=\"https://scikit-learn.org/1.6/modules/generated/sklearn.linear_model.LogisticRegression.html\">?<span>Documentation for LogisticRegression</span></a><span class=\"sk-estimator-doc-link fitted\">i<span>Fitted</span></span></div></label><div class=\"sk-toggleable__content fitted\"><pre>LogisticRegression(max_iter=1000)</pre></div> </div></div></div></div>"
            ]
          },
          "metadata": {},
          "execution_count": 55
        }
      ]
    },
    {
      "cell_type": "code",
      "source": [
        "y_pred = lr.predict(X_test)\n",
        "y_prob = lr.predict_proba(X_test)[:, 1]\n",
        "report = classification_report(y_test, y_pred, output_dict=True)\n",
        "cm = confusion_matrix(y_test, y_pred)\n",
        "auc = roc_auc_score(y_test, y_prob)"
      ],
      "metadata": {
        "id": "99sS7AJWkqFx"
      },
      "execution_count": null,
      "outputs": []
    },
    {
      "cell_type": "code",
      "source": [
        "plt.figure(figsize=(5, 4))\n",
        "sns.heatmap(cm, annot=True, fmt=\"d\", cmap=\"Blues\", xticklabels=[\"Safe\", \"Vulnerable\"], yticklabels=[\"Safe\", \"Vulnerable\"])\n",
        "plt.xlabel(\"Predicted\")\n",
        "plt.ylabel(\"True\")\n",
        "plt.title(\"Confusion Matrix - Logistic Regression (Baseline)\")\n",
        "plt.tight_layout()\n",
        "plt.show()"
      ],
      "metadata": {
        "colab": {
          "base_uri": "https://localhost:8080/",
          "height": 407
        },
        "id": "s_bWNjBzktIQ",
        "outputId": "a49e2d94-ebbc-42cd-d25b-f49ebb87dd48"
      },
      "execution_count": null,
      "outputs": [
        {
          "output_type": "display_data",
          "data": {
            "text/plain": [
              "<Figure size 500x400 with 2 Axes>"
            ],
            "image/png": "[encoded data removed]"
          },
          "metadata": {}
        }
      ]
    },
    {
      "cell_type": "code",
      "source": [
        "baseline_results = {\n",
        "    \"classification_report\": report,\n",
        "    \"roc_auc\": auc,\n",
        "    \"confusion_matrix\": cm.tolist()\n",
        "}\n",
        "\n",
        "baseline_results"
      ],
      "metadata": {
        "colab": {
          "base_uri": "https://localhost:8080/"
        },
        "id": "NUFdDF8Uk0QN",
        "outputId": "2f654606-5481-483f-fefa-4c71e131df9c"
      },
      "execution_count": null,
      "outputs": [
        {
          "output_type": "execute_result",
          "data": {
            "text/plain": [
              "{'classification_report': {'0': {'precision': 0.8407789232531501,\n",
              "   'recall': 0.7875536480686696,\n",
              "   'f1-score': 0.8132963988919668,\n",
              "   'support': 932.0},\n",
              "  '1': {'precision': 0.8,\n",
              "   'recall': 0.8506981740064447,\n",
              "   'f1-score': 0.8245705361790734,\n",
              "   'support': 931.0},\n",
              "  'accuracy': 0.8191089640365002,\n",
              "  'macro avg': {'precision': 0.820389461626575,\n",
              "   'recall': 0.819125911037557,\n",
              "   'f1-score': 0.8189334675355201,\n",
              "   'support': 1863.0},\n",
              "  'weighted avg': {'precision': 0.8204004060504219,\n",
              "   'recall': 0.8191089640365002,\n",
              "   'f1-score': 0.818930441733779,\n",
              "   'support': 1863.0}},\n",
              " 'roc_auc': np.float64(0.9099294450104415),\n",
              " 'confusion_matrix': [[734, 198], [139, 792]]}"
            ]
          },
          "metadata": {},
          "execution_count": 58
        }
      ]
    },
    {
      "cell_type": "markdown",
      "source": [
        "(1) Baseline: **Logistic Regression (TF-IDF)**\n",
        "\n",
        "* 準確率：81.9%\n",
        "\n",
        "* AUC：0.91\n",
        "\n",
        "* F1-score (class 1: vulnerable)：0.825\n",
        "\n",
        "* 混淆矩陣：\n",
        "\n",
        "    * TP: 792, FN: 139\n",
        "\n",
        "    * TN: 734, FP: 198"
      ],
      "metadata": {
        "id": "fBn_MxgIfLxL"
      }
    },
    {
      "cell_type": "markdown",
      "source": [
        "## LSTM"
      ],
      "metadata": {
        "id": "awkXWxFGeATN"
      }
    },
    {
      "cell_type": "code",
      "source": [
        "import pandas as pd\n",
        "from sklearn.model_selection import train_test_split\n",
        "from tensorflow.keras.preprocessing.text import Tokenizer\n",
        "from tensorflow.keras.preprocessing.sequence import pad_sequences\n",
        "from tensorflow.keras.models import Sequential\n",
        "from tensorflow.keras.layers import Embedding, LSTM, Dense\n",
        "from tensorflow.keras.optimizers import Adam\n",
        "from tensorflow.keras.utils import to_categorical\n",
        "from sklearn.metrics import classification_report, confusion_matrix\n",
        "import matplotlib.pyplot as plt\n",
        "import seaborn as sns"
      ],
      "metadata": {
        "id": "slYsFU7jlqxf"
      },
      "execution_count": null,
      "outputs": []
    },
    {
      "cell_type": "code",
      "source": [
        "# Tokenization and padding\n",
        "tokenizer = Tokenizer(num_words=1000, oov_token=\"<OOV>\")\n",
        "tokenizer.fit_on_texts(train_df['code'])"
      ],
      "metadata": {
        "id": "XqRfjRSclsVL"
      },
      "execution_count": null,
      "outputs": []
    },
    {
      "cell_type": "code",
      "source": [
        "def preprocess(df, maxlen=50):\n",
        "    seqs = tokenizer.texts_to_sequences(df['code'])\n",
        "    padded = pad_sequences(seqs, maxlen=maxlen, padding='post')\n",
        "    return padded, df['label'].values\n",
        "\n",
        "X_train, y_train = preprocess(train_df)\n",
        "X_val, y_val = preprocess(val_df)\n",
        "X_test, y_test = preprocess(test_df)"
      ],
      "metadata": {
        "id": "dteXTaWfluFX"
      },
      "execution_count": null,
      "outputs": []
    },
    {
      "cell_type": "code",
      "source": [
        "# Build LSTM model\n",
        "model = Sequential([\n",
        "    Embedding(input_dim=1000, output_dim=32, input_length=50),\n",
        "    LSTM(64),\n",
        "    Dense(1, activation='sigmoid')\n",
        "])\n",
        "\n",
        "model.compile(optimizer=Adam(learning_rate=0.01), loss='binary_crossentropy', metrics=['accuracy'])"
      ],
      "metadata": {
        "colab": {
          "base_uri": "https://localhost:8080/"
        },
        "id": "lf3k-3PxlwXI",
        "outputId": "6f43596d-dca9-45b5-e694-15be850515c9"
      },
      "execution_count": null,
      "outputs": [
        {
          "output_type": "stream",
          "name": "stderr",
          "text": [
            "/usr/local/lib/python3.11/dist-packages/keras/src/layers/core/embedding.py:90: UserWarning: Argument `input_length` is deprecated. Just remove it.\n",
            "  warnings.warn(\n"
          ]
        }
      ]
    },
    {
      "cell_type": "code",
      "source": [
        "# Train model\n",
        "history = model.fit(X_train, y_train, epochs=10, validation_data=(X_val, y_val), batch_size=32, verbose=0)"
      ],
      "metadata": {
        "id": "x9pN6Qnpl1Iw"
      },
      "execution_count": null,
      "outputs": []
    },
    {
      "cell_type": "code",
      "source": [
        "# Evaluate on test set\n",
        "y_pred_prob = model.predict(X_test)\n",
        "y_pred = (y_pred_prob >= 0.5).astype(int).flatten()\n",
        "\n",
        "report = classification_report(y_test, y_pred, output_dict=True)\n",
        "cm = confusion_matrix(y_test, y_pred)"
      ],
      "metadata": {
        "colab": {
          "base_uri": "https://localhost:8080/"
        },
        "id": "yWpg6gW1l13E",
        "outputId": "813f9866-bdb5-484e-886f-792e5d5657a8"
      },
      "execution_count": null,
      "outputs": [
        {
          "output_type": "stream",
          "name": "stdout",
          "text": [
            "\u001b[1m59/59\u001b[0m \u001b[32m━━━━━━━━━━━━━━━━━━━━\u001b[0m\u001b[37m\u001b[0m \u001b[1m1s\u001b[0m 11ms/step\n"
          ]
        }
      ]
    },
    {
      "cell_type": "code",
      "source": [
        "# Plot loss curve\n",
        "plt.figure(figsize=(6, 4))\n",
        "plt.plot(history.history['loss'], label='Train Loss')\n",
        "plt.plot(history.history['val_loss'], label='Val Loss')\n",
        "plt.xlabel(\"Epoch\")\n",
        "plt.ylabel(\"Loss\")\n",
        "plt.title(\"LSTM Training/Validation Loss\")\n",
        "plt.legend()\n",
        "plt.tight_layout()\n",
        "plt.show()"
      ],
      "metadata": {
        "colab": {
          "base_uri": "https://localhost:8080/",
          "height": 407
        },
        "id": "TZ7268FFl5Av",
        "outputId": "d0458aed-dfae-41bd-f7f8-836e634b3e58"
      },
      "execution_count": null,
      "outputs": [
        {
          "output_type": "display_data",
          "data": {
            "text/plain": [
              "<Figure size 600x400 with 1 Axes>"
            ],
            "image/png": "[encoded data removed]"
          },
          "metadata": {}
        }
      ]
    },
    {
      "cell_type": "code",
      "source": [
        "# Plot confusion matrix\n",
        "plt.figure(figsize=(5, 4))\n",
        "sns.heatmap(cm, annot=True, fmt=\"d\", cmap=\"Blues\", xticklabels=[\"Safe\", \"Vulnerable\"], yticklabels=[\"Safe\", \"Vulnerable\"])\n",
        "plt.xlabel(\"Predicted\")\n",
        "plt.ylabel(\"True\")\n",
        "plt.title(\"Confusion Matrix - LSTM\")\n",
        "plt.tight_layout()\n",
        "plt.show()"
      ],
      "metadata": {
        "colab": {
          "base_uri": "https://localhost:8080/",
          "height": 407
        },
        "id": "S-uQv1gZl6wK",
        "outputId": "548354c4-7b37-4302-86e9-f716fd130a29"
      },
      "execution_count": null,
      "outputs": [
        {
          "output_type": "display_data",
          "data": {
            "text/plain": [
              "<Figure size 500x400 with 2 Axes>"
            ],
            "image/png": "[encoded data removed]"
          },
          "metadata": {}
        }
      ]
    },
    {
      "cell_type": "code",
      "source": [
        "print(report)"
      ],
      "metadata": {
        "colab": {
          "base_uri": "https://localhost:8080/"
        },
        "id": "GKPEwlXGl8b_",
        "outputId": "b52439e0-b4db-4860-fa42-fc799a95cb31"
      },
      "execution_count": null,
      "outputs": [
        {
          "output_type": "stream",
          "name": "stdout",
          "text": [
            "{'0': {'precision': 0.8204334365325078, 'recall': 0.8530042918454935, 'f1-score': 0.8364018937401367, 'support': 932.0}, '1': {'precision': 0.8467561521252797, 'recall': 0.8131041890440387, 'f1-score': 0.8295890410958904, 'support': 931.0}, 'accuracy': 0.833064949006978, 'macro avg': {'precision': 0.8335947943288937, 'recall': 0.8330542404447661, 'f1-score': 0.8329954674180136, 'support': 1863.0}, 'weighted avg': {'precision': 0.8335877297246015, 'recall': 0.833064949006978, 'f1-score': 0.832997295880881, 'support': 1863.0}}\n"
          ]
        }
      ]
    },
    {
      "cell_type": "markdown",
      "source": [
        "(2) LSTM (單向)\n",
        "\n",
        "* 準確率：**83.3%**\n",
        "\n",
        "* F1-score：0.833\n",
        "\n",
        "* 混淆矩陣：\n",
        "\n",
        "    * TP: 757, FN: 174\n",
        "\n",
        "    * TN: 795, FP: 137"
      ],
      "metadata": {
        "id": "l9r7KFfIfsco"
      }
    },
    {
      "cell_type": "markdown",
      "source": [
        "## Advanced LSTM\n",
        "\n",
        "- Bidirectional\n",
        "- Early Stopping\n",
        "- Dropout"
      ],
      "metadata": {
        "id": "527yT3ghu9ep"
      }
    },
    {
      "cell_type": "code",
      "source": [
        "from tensorflow.keras.layers import Embedding, LSTM, Dense, Dropout, Bidirectional\n",
        "from tensorflow.keras.optimizers import Adam\n",
        "from tensorflow.keras.callbacks import EarlyStopping\n",
        "from sklearn.metrics import classification_report, confusion_matrix\n",
        "import matplotlib.pyplot as plt\n",
        "import seaborn as sns"
      ],
      "metadata": {
        "id": "F3hhS1nWvfTg"
      },
      "execution_count": null,
      "outputs": []
    },
    {
      "cell_type": "code",
      "source": [
        "model = Sequential([\n",
        "    Embedding(input_dim=10000, output_dim=64, input_length=X_train.shape[1]),\n",
        "    Bidirectional(LSTM(64, return_sequences=False)),\n",
        "    Dropout(0.4),\n",
        "    Dense(1, activation='sigmoid')\n",
        "])\n",
        "\n",
        "model.compile(optimizer=Adam(learning_rate=1e-3), loss='binary_crossentropy', metrics=['accuracy'])\n",
        "\n",
        "# Early stopping\n",
        "early_stop = EarlyStopping(monitor='val_loss', patience=3, restore_best_weights=True)\n",
        "\n",
        "# Model Training\n",
        "history = model.fit(\n",
        "    X_train, y_train,\n",
        "    validation_data=(X_val, y_val),\n",
        "    epochs=20,\n",
        "    batch_size=32,\n",
        "    callbacks=[early_stop],\n",
        "    verbose=1\n",
        ")"
      ],
      "metadata": {
        "colab": {
          "base_uri": "https://localhost:8080/"
        },
        "id": "u7xl-wdnvAUh",
        "outputId": "0958bb76-ed4f-418e-da64-49cdd66afb02",
        "collapsed": true
      },
      "execution_count": null,
      "outputs": [
        {
          "output_type": "stream",
          "name": "stdout",
          "text": [
            "Epoch 1/20\n"
          ]
        },
        {
          "output_type": "stream",
          "name": "stderr",
          "text": [
            "/usr/local/lib/python3.11/dist-packages/keras/src/layers/core/embedding.py:90: UserWarning: Argument `input_length` is deprecated. Just remove it.\n",
            "  warnings.warn(\n"
          ]
        },
        {
          "output_type": "stream",
          "name": "stdout",
          "text": [
            "\u001b[1m187/187\u001b[0m \u001b[32m━━━━━━━━━━━━━━━━━━━━\u001b[0m\u001b[37m\u001b[0m \u001b[1m19s\u001b[0m 63ms/step - accuracy: 0.6574 - loss: 0.6035 - val_accuracy: 0.7846 - val_loss: 0.4359\n",
            "Epoch 2/20\n",
            "\u001b[1m187/187\u001b[0m \u001b[32m━━━━━━━━━━━━━━━━━━━━\u001b[0m\u001b[37m\u001b[0m \u001b[1m33s\u001b[0m 128ms/step - accuracy: 0.8231 - loss: 0.3858 - val_accuracy: 0.7960 - val_loss: 0.4195\n",
            "Epoch 3/20\n",
            "\u001b[1m187/187\u001b[0m \u001b[32m━━━━━━━━━━━━━━━━━━━━\u001b[0m\u001b[37m\u001b[0m \u001b[1m25s\u001b[0m 131ms/step - accuracy: 0.8536 - loss: 0.3327 - val_accuracy: 0.8087 - val_loss: 0.3909\n",
            "Epoch 4/20\n",
            "\u001b[1m187/187\u001b[0m \u001b[32m━━━━━━━━━━━━━━━━━━━━\u001b[0m\u001b[37m\u001b[0m \u001b[1m37s\u001b[0m 111ms/step - accuracy: 0.8541 - loss: 0.3139 - val_accuracy: 0.8114 - val_loss: 0.3864\n",
            "Epoch 5/20\n",
            "\u001b[1m187/187\u001b[0m \u001b[32m━━━━━━━━━━━━━━━━━━━━\u001b[0m\u001b[37m\u001b[0m \u001b[1m31s\u001b[0m 58ms/step - accuracy: 0.8551 - loss: 0.2980 - val_accuracy: 0.8242 - val_loss: 0.3812\n",
            "Epoch 6/20\n",
            "\u001b[1m187/187\u001b[0m \u001b[32m━━━━━━━━━━━━━━━━━━━━\u001b[0m\u001b[37m\u001b[0m \u001b[1m20s\u001b[0m 58ms/step - accuracy: 0.8743 - loss: 0.2717 - val_accuracy: 0.8161 - val_loss: 0.4481\n",
            "Epoch 7/20\n",
            "\u001b[1m187/187\u001b[0m \u001b[32m━━━━━━━━━━━━━━━━━━━━\u001b[0m\u001b[37m\u001b[0m \u001b[1m20s\u001b[0m 55ms/step - accuracy: 0.8810 - loss: 0.2526 - val_accuracy: 0.8262 - val_loss: 0.4017\n",
            "Epoch 8/20\n",
            "\u001b[1m187/187\u001b[0m \u001b[32m━━━━━━━━━━━━━━━━━━━━\u001b[0m\u001b[37m\u001b[0m \u001b[1m21s\u001b[0m 57ms/step - accuracy: 0.8750 - loss: 0.2795 - val_accuracy: 0.8403 - val_loss: 0.3868\n"
          ]
        }
      ]
    },
    {
      "cell_type": "code",
      "source": [
        "# Evaluate on test set\n",
        "y_pred_prob = model.predict(X_test)\n",
        "y_pred = (y_pred_prob >= 0.5).astype(int).flatten()\n",
        "\n",
        "report = classification_report(y_test, y_pred)\n",
        "cm = confusion_matrix(y_test, y_pred)"
      ],
      "metadata": {
        "colab": {
          "base_uri": "https://localhost:8080/"
        },
        "id": "cxksuqf-vhYT",
        "outputId": "a1a60347-926a-4b2f-d6ba-a10b97a92d03"
      },
      "execution_count": null,
      "outputs": [
        {
          "output_type": "stream",
          "name": "stdout",
          "text": [
            "\u001b[1m59/59\u001b[0m \u001b[32m━━━━━━━━━━━━━━━━━━━━\u001b[0m\u001b[37m\u001b[0m \u001b[1m1s\u001b[0m 18ms/step\n"
          ]
        }
      ]
    },
    {
      "cell_type": "code",
      "source": [
        "# Plot loss curve\n",
        "plt.figure(figsize=(6, 4))\n",
        "plt.plot(history.history['loss'], label='Train Loss')\n",
        "plt.plot(history.history['val_loss'], label='Val Loss')\n",
        "plt.xlabel(\"Epoch\")\n",
        "plt.ylabel(\"Loss\")\n",
        "plt.title(\"LSTM Training/Validation Loss\")\n",
        "plt.legend()\n",
        "plt.tight_layout()\n",
        "plt.show()"
      ],
      "metadata": {
        "colab": {
          "base_uri": "https://localhost:8080/",
          "height": 407
        },
        "id": "cCJsNgF-vptw",
        "outputId": "4a84dd43-1fbb-4ad8-a6a4-81167146fae7"
      },
      "execution_count": null,
      "outputs": [
        {
          "output_type": "display_data",
          "data": {
            "text/plain": [
              "<Figure size 600x400 with 1 Axes>"
            ],
            "image/png": "[encoded data removed]"
          },
          "metadata": {}
        }
      ]
    },
    {
      "cell_type": "code",
      "source": [
        "# Plot confusion matrix\n",
        "plt.figure(figsize=(5, 4))\n",
        "sns.heatmap(cm, annot=True, fmt=\"d\", cmap=\"Blues\", xticklabels=[\"Safe\", \"Vulnerable\"], yticklabels=[\"Safe\", \"Vulnerable\"])\n",
        "plt.xlabel(\"Predicted\")\n",
        "plt.ylabel(\"True\")\n",
        "plt.title(\"Confusion Matrix - LSTM\")\n",
        "plt.tight_layout()\n",
        "plt.show()"
      ],
      "metadata": {
        "colab": {
          "base_uri": "https://localhost:8080/",
          "height": 407
        },
        "id": "TRSeJvBVvqM8",
        "outputId": "51940908-31f5-4763-8a1b-d9010e0c4b3b"
      },
      "execution_count": null,
      "outputs": [
        {
          "output_type": "display_data",
          "data": {
            "text/plain": [
              "<Figure size 500x400 with 2 Axes>"
            ],
            "image/png": "[encoded data removed]"
          },
          "metadata": {}
        }
      ]
    },
    {
      "cell_type": "code",
      "source": [
        "print(report)"
      ],
      "metadata": {
        "colab": {
          "base_uri": "https://localhost:8080/"
        },
        "id": "NNzCSVHOvmFo",
        "outputId": "791a368e-7355-4340-c76d-efb785baa534"
      },
      "execution_count": null,
      "outputs": [
        {
          "output_type": "stream",
          "name": "stdout",
          "text": [
            "              precision    recall  f1-score   support\n",
            "\n",
            "           0       0.79      0.83      0.81       932\n",
            "           1       0.82      0.78      0.80       931\n",
            "\n",
            "    accuracy                           0.81      1863\n",
            "   macro avg       0.81      0.81      0.81      1863\n",
            "weighted avg       0.81      0.81      0.81      1863\n",
            "\n"
          ]
        }
      ]
    },
    {
      "cell_type": "markdown",
      "source": [
        "(3) Advanced LSTM (Bidirectional + Dropout + EarlyStopping)\n",
        "\n",
        "* 最佳表現結果（Epoch 8 結束）：\n",
        "\n",
        "    * 準確率：81.0%\n",
        "\n",
        "    * F1-score：0.81\n",
        "\n",
        "* 混淆矩陣（見 page 13 圖片）：\n",
        "\n",
        "    * TP: 725, FN: 206\n",
        "\n",
        "    * TN: 778, FP: 154"
      ],
      "metadata": {
        "id": "q5YRhp2Ff5IM"
      }
    },
    {
      "cell_type": "markdown",
      "source": [
        "## CodeBERT\n",
        "\n",
        "-  tokenize 程式碼 : AutoTokenizer"
      ],
      "metadata": {
        "id": "AThAiEbCxZGy"
      }
    },
    {
      "cell_type": "code",
      "source": [
        "import pandas as pd\n",
        "from sklearn.model_selection import train_test_split\n",
        "from datasets import Dataset\n",
        "from transformers import AutoTokenizer, AutoModelForSequenceClassification, TrainingArguments\n",
        "from transformers import DataCollatorWithPadding\n",
        "from sklearn.metrics import accuracy_score, precision_recall_fscore_support\n",
        "from transformers import Trainer"
      ],
      "metadata": {
        "id": "kW6-YOpPyBMt"
      },
      "execution_count": null,
      "outputs": []
    },
    {
      "cell_type": "code",
      "source": [
        "train_dataset = Dataset.from_pandas(train_df)\n",
        "val_dataset = Dataset.from_pandas(val_df)\n",
        "test_dataset = Dataset.from_pandas(test_df)"
      ],
      "metadata": {
        "id": "eRcp2LGrxb5q"
      },
      "execution_count": null,
      "outputs": []
    },
    {
      "cell_type": "code",
      "source": [
        "tokenizer = AutoTokenizer.from_pretrained(\"microsoft/codebert-base\")\n",
        "def preprocess(example):\n",
        "    return tokenizer(example[\"code\"], truncation=True, padding='max_length', max_length=256)\n",
        "\n",
        "train_dataset = train_dataset.map(preprocess, batched=True)\n",
        "val_dataset = val_dataset.map(preprocess, batched=True)\n",
        "test_dataset = test_dataset.map(preprocess, batched=True)"
      ],
      "metadata": {
        "colab": {
          "base_uri": "https://localhost:8080/",
          "height": 113,
          "referenced_widgets": [
            "15d6d003d2994953b78feb41c9152ca4",
            "a124a583b6a84f77977ca5247a3203a5",
            "69178205547a47a6b5a280dad0bbb99f",
            "29add81f4d3447a98c961ce008743b14",
            "40454a42f0954789a489262345540e14",
            "3a33faf795784cd5918f09700181b62a",
            "b0d831103a6e43e8986b9fdc47ff27ca",
            "03dcf145238f4dcb842ba8ba2fe904c6",
            "9241cf2f97a94f41a6b905218cb1fded",
            "65cb9a6e4604445b904640d77b36bd1c",
            "52653f164120465f8becae8d38b48337",
            "df22f8e8b4e04c8b96998bee497a6c62",
            "a5b8656d2423453fac2b0ef2fe26311b",
            "3a47e19cfe044b9cba8d9a8602c684ae",
            "442c796c296d498cafe1d62fdec34cf5",
            "eed990eefca74bf0ad98f78896496ea9",
            "b3b5f05a92f34beba386b40d9116bf0b",
            "73cd686d2e4e4cadaec80e02e9d5ad72",
            "c85ea8b9a44344c1a404ef0cd4171bcb",
            "bf095727bed74daa9673ac6b6c635f9c",
            "10892d2c3ed7434996a897f2d4518ba7",
            "1600272e98b8491d802e26196c710653",
            "e8bb8f21976e4c58aa356c357cceda33",
            "228d04ae3661482c949224ae01f3b808",
            "df932ef4e6ed46f396ca0155c253c8d9",
            "9f9e86129b1e437a9b04ff8fbb697487",
            "8269a853653345bbbd30c05ca3cb283f",
            "c09661df9b0b4c158e1a12df27122a02",
            "c6e7f8e57f2442c293555314b8ac5e0e",
            "3070a9b239d449689fcaac09a8c238a4",
            "9e95e553785440a2a8ffd6258b4d7797",
            "ee554cff612a4042aea72addc529bbcb",
            "5abd68c1f86243888afcbf716d407324"
          ]
        },
        "id": "paLO37IaxjDt",
        "outputId": "8c93f962-83ed-447f-8f85-87a5a21538e4",
        "collapsed": true
      },
      "execution_count": null,
      "outputs": [
        {
          "output_type": "display_data",
          "data": {
            "text/plain": [
              "Map:   0%|          | 0/5959 [00:00<?, ? examples/s]"
            ],
            "application/vnd.jupyter.widget-view+json": {
              "version_major": 2,
              "version_minor": 0,
              "model_id": "15d6d003d2994953b78feb41c9152ca4"
            }
          },
          "metadata": {}
        },
        {
          "output_type": "display_data",
          "data": {
            "text/plain": [
              "Map:   0%|          | 0/1490 [00:00<?, ? examples/s]"
            ],
            "application/vnd.jupyter.widget-view+json": {
              "version_major": 2,
              "version_minor": 0,
              "model_id": "df22f8e8b4e04c8b96998bee497a6c62"
            }
          },
          "metadata": {}
        },
        {
          "output_type": "display_data",
          "data": {
            "text/plain": [
              "Map:   0%|          | 0/1863 [00:00<?, ? examples/s]"
            ],
            "application/vnd.jupyter.widget-view+json": {
              "version_major": 2,
              "version_minor": 0,
              "model_id": "e8bb8f21976e4c58aa356c357cceda33"
            }
          },
          "metadata": {}
        }
      ]
    },
    {
      "cell_type": "code",
      "source": [
        "# 移除未用欄位\n",
        "cols_to_remove = [col for col in train_dataset.column_names if col not in ['input_ids', 'attention_mask', 'label']]\n",
        "train_dataset = train_dataset.remove_columns(cols_to_remove)\n",
        "val_dataset = val_dataset.remove_columns(cols_to_remove)\n",
        "test_dataset = test_dataset.remove_columns(cols_to_remove)"
      ],
      "metadata": {
        "id": "Xirvl1UoyKMR"
      },
      "execution_count": null,
      "outputs": []
    },
    {
      "cell_type": "code",
      "source": [
        "train_dataset.set_format(\"torch\")\n",
        "val_dataset.set_format(\"torch\")\n",
        "test_dataset.set_format(\"torch\")"
      ],
      "metadata": {
        "id": "LF9K5ZKyyL8q"
      },
      "execution_count": null,
      "outputs": []
    },
    {
      "cell_type": "code",
      "source": [
        "model = AutoModelForSequenceClassification.from_pretrained(\"microsoft/codebert-base\", num_labels=2)"
      ],
      "metadata": {
        "colab": {
          "base_uri": "https://localhost:8080/"
        },
        "id": "6T6gPigTy8Ar",
        "outputId": "0daf8803-0099-41b3-8b7c-850b1f86b664",
        "collapsed": true
      },
      "execution_count": null,
      "outputs": [
        {
          "output_type": "stream",
          "name": "stderr",
          "text": [
            "Some weights of RobertaForSequenceClassification were not initialized from the model checkpoint at microsoft/codebert-base and are newly initialized: ['classifier.dense.bias', 'classifier.dense.weight', 'classifier.out_proj.bias', 'classifier.out_proj.weight']\n",
            "You should probably TRAIN this model on a down-stream task to be able to use it for predictions and inference.\n"
          ]
        }
      ]
    },
    {
      "cell_type": "code",
      "source": [
        "def compute_metrics(eval_pred):\n",
        "    logits, labels = eval_pred\n",
        "    preds = logits.argmax(axis=-1)\n",
        "    precision, recall, f1, _ = precision_recall_fscore_support(labels, preds, average='binary')\n",
        "    acc = accuracy_score(labels, preds)\n",
        "    return {\"accuracy\": acc, \"precision\": precision, \"recall\": recall, \"f1\": f1}"
      ],
      "metadata": {
        "id": "wnMx69AEy-aG"
      },
      "execution_count": null,
      "outputs": []
    },
    {
      "cell_type": "code",
      "source": [
        "!pip install transformers[torch]"
      ],
      "metadata": {
        "colab": {
          "base_uri": "https://localhost:8080/"
        },
        "collapsed": true,
        "id": "1aTRhW46iN4O",
        "outputId": "ea456598-5720-4d8c-c413-07a629626b7b"
      },
      "execution_count": null,
      "outputs": [
        {
          "output_type": "stream",
          "name": "stdout",
          "text": [
            "Requirement already satisfied: transformers[torch] in /usr/local/lib/python3.11/dist-packages (4.52.4)\n",
            "Requirement already satisfied: filelock in /usr/local/lib/python3.11/dist-packages (from transformers[torch]) (3.18.0)\n",
            "Requirement already satisfied: huggingface-hub<1.0,>=0.30.0 in /usr/local/lib/python3.11/dist-packages (from transformers[torch]) (0.32.4)\n",
            "Requirement already satisfied: numpy>=1.17 in /usr/local/lib/python3.11/dist-packages (from transformers[torch]) (1.26.4)\n",
            "Requirement already satisfied: packaging>=20.0 in /usr/local/lib/python3.11/dist-packages (from transformers[torch]) (24.2)\n",
            "Requirement already satisfied: pyyaml>=5.1 in /usr/local/lib/python3.11/dist-packages (from transformers[torch]) (6.0.2)\n",
            "Requirement already satisfied: regex!=2019.12.17 in /usr/local/lib/python3.11/dist-packages (from transformers[torch]) (2024.11.6)\n",
            "Requirement already satisfied: requests in /usr/local/lib/python3.11/dist-packages (from transformers[torch]) (2.32.3)\n",
            "Requirement already satisfied: tokenizers<0.22,>=0.21 in /usr/local/lib/python3.11/dist-packages (from transformers[torch]) (0.21.1)\n",
            "Requirement already satisfied: safetensors>=0.4.3 in /usr/local/lib/python3.11/dist-packages (from transformers[torch]) (0.5.3)\n",
            "Requirement already satisfied: tqdm>=4.27 in /usr/local/lib/python3.11/dist-packages (from transformers[torch]) (4.67.1)\n",
            "Requirement already satisfied: torch<2.7,>=2.1 in /usr/local/lib/python3.11/dist-packages (from transformers[torch]) (2.6.0+cu124)\n",
            "Requirement already satisfied: accelerate>=0.26.0 in /usr/local/lib/python3.11/dist-packages (from transformers[torch]) (1.7.0)\n",
            "Requirement already satisfied: psutil in /usr/local/lib/python3.11/dist-packages (from accelerate>=0.26.0->transformers[torch]) (5.9.5)\n",
            "Requirement already satisfied: fsspec>=2023.5.0 in /usr/local/lib/python3.11/dist-packages (from huggingface-hub<1.0,>=0.30.0->transformers[torch]) (2025.3.0)\n",
            "Requirement already satisfied: typing-extensions>=3.7.4.3 in /usr/local/lib/python3.11/dist-packages (from huggingface-hub<1.0,>=0.30.0->transformers[torch]) (4.14.0)\n",
            "Requirement already satisfied: hf-xet<2.0.0,>=1.1.2 in /usr/local/lib/python3.11/dist-packages (from huggingface-hub<1.0,>=0.30.0->transformers[torch]) (1.1.2)\n",
            "Requirement already satisfied: networkx in /usr/local/lib/python3.11/dist-packages (from torch<2.7,>=2.1->transformers[torch]) (3.5)\n",
            "Requirement already satisfied: jinja2 in /usr/local/lib/python3.11/dist-packages (from torch<2.7,>=2.1->transformers[torch]) (3.1.6)\n",
            "Requirement already satisfied: nvidia-cuda-nvrtc-cu12==12.4.127 in /usr/local/lib/python3.11/dist-packages (from torch<2.7,>=2.1->transformers[torch]) (12.4.127)\n",
            "Requirement already satisfied: nvidia-cuda-runtime-cu12==12.4.127 in /usr/local/lib/python3.11/dist-packages (from torch<2.7,>=2.1->transformers[torch]) (12.4.127)\n",
            "Requirement already satisfied: nvidia-cuda-cupti-cu12==12.4.127 in /usr/local/lib/python3.11/dist-packages (from torch<2.7,>=2.1->transformers[torch]) (12.4.127)\n",
            "Requirement already satisfied: nvidia-cudnn-cu12==9.1.0.70 in /usr/local/lib/python3.11/dist-packages (from torch<2.7,>=2.1->transformers[torch]) (9.1.0.70)\n",
            "Requirement already satisfied: nvidia-cublas-cu12==12.4.5.8 in /usr/local/lib/python3.11/dist-packages (from torch<2.7,>=2.1->transformers[torch]) (12.4.5.8)\n",
            "Requirement already satisfied: nvidia-cufft-cu12==11.2.1.3 in /usr/local/lib/python3.11/dist-packages (from torch<2.7,>=2.1->transformers[torch]) (11.2.1.3)\n",
            "Requirement already satisfied: nvidia-curand-cu12==10.3.5.147 in /usr/local/lib/python3.11/dist-packages (from torch<2.7,>=2.1->transformers[torch]) (10.3.5.147)\n",
            "Requirement already satisfied: nvidia-cusolver-cu12==11.6.1.9 in /usr/local/lib/python3.11/dist-packages (from torch<2.7,>=2.1->transformers[torch]) (11.6.1.9)\n",
            "Requirement already satisfied: nvidia-cusparse-cu12==12.3.1.170 in /usr/local/lib/python3.11/dist-packages (from torch<2.7,>=2.1->transformers[torch]) (12.3.1.170)\n",
            "Requirement already satisfied: nvidia-cusparselt-cu12==0.6.2 in /usr/local/lib/python3.11/dist-packages (from torch<2.7,>=2.1->transformers[torch]) (0.6.2)\n",
            "Requirement already satisfied: nvidia-nccl-cu12==2.21.5 in /usr/local/lib/python3.11/dist-packages (from torch<2.7,>=2.1->transformers[torch]) (2.21.5)\n",
            "Requirement already satisfied: nvidia-nvtx-cu12==12.4.127 in /usr/local/lib/python3.11/dist-packages (from torch<2.7,>=2.1->transformers[torch]) (12.4.127)\n",
            "Requirement already satisfied: nvidia-nvjitlink-cu12==12.4.127 in /usr/local/lib/python3.11/dist-packages (from torch<2.7,>=2.1->transformers[torch]) (12.4.127)\n",
            "Requirement already satisfied: triton==3.2.0 in /usr/local/lib/python3.11/dist-packages (from torch<2.7,>=2.1->transformers[torch]) (3.2.0)\n",
            "Requirement already satisfied: sympy==1.13.1 in /usr/local/lib/python3.11/dist-packages (from torch<2.7,>=2.1->transformers[torch]) (1.13.1)\n",
            "Requirement already satisfied: mpmath<1.4,>=1.1.0 in /usr/local/lib/python3.11/dist-packages (from sympy==1.13.1->torch<2.7,>=2.1->transformers[torch]) (1.3.0)\n",
            "Requirement already satisfied: charset-normalizer<4,>=2 in /usr/local/lib/python3.11/dist-packages (from requests->transformers[torch]) (3.4.2)\n",
            "Requirement already satisfied: idna<4,>=2.5 in /usr/local/lib/python3.11/dist-packages (from requests->transformers[torch]) (3.10)\n",
            "Requirement already satisfied: urllib3<3,>=1.21.1 in /usr/local/lib/python3.11/dist-packages (from requests->transformers[torch]) (2.4.0)\n",
            "Requirement already satisfied: certifi>=2017.4.17 in /usr/local/lib/python3.11/dist-packages (from requests->transformers[torch]) (2025.4.26)\n",
            "Requirement already satisfied: MarkupSafe>=2.0 in /usr/local/lib/python3.11/dist-packages (from jinja2->torch<2.7,>=2.1->transformers[torch]) (3.0.2)\n"
          ]
        }
      ]
    },
    {
      "cell_type": "code",
      "source": [
        "training_args = TrainingArguments(\n",
        "    output_dir=\"./codebert_clf\",\n",
        "    eval_strategy=\"epoch\",\n",
        "    save_strategy=\"epoch\",\n",
        "    learning_rate=2e-5,\n",
        "    per_device_train_batch_size=16,\n",
        "    per_device_eval_batch_size=32,\n",
        "    num_train_epochs=3,\n",
        "    weight_decay=0.01,\n",
        "    logging_dir='./logs',\n",
        "    load_best_model_at_end=True,\n",
        "    metric_for_best_model='f1'\n",
        ")\n",
        "\n",
        "trainer = Trainer(\n",
        "    model=model,\n",
        "    args=training_args,\n",
        "    train_dataset=train_dataset,\n",
        "    eval_dataset=val_dataset,\n",
        "    tokenizer=tokenizer,\n",
        "    data_collator=DataCollatorWithPadding(tokenizer),\n",
        "    compute_metrics=compute_metrics\n",
        ")"
      ],
      "metadata": {
        "colab": {
          "base_uri": "https://localhost:8080/"
        },
        "id": "w8wbQM-1Kpus",
        "outputId": "94818bd8-be10-4803-9fde-16250b8919e4",
        "collapsed": true
      },
      "execution_count": null,
      "outputs": [
        {
          "output_type": "stream",
          "name": "stderr",
          "text": [
            "<ipython-input-12-ed327ab031ad>:15: FutureWarning: `tokenizer` is deprecated and will be removed in version 5.0.0 for `Trainer.__init__`. Use `processing_class` instead.\n",
            "  trainer = Trainer(\n"
          ]
        }
      ]
    },
    {
      "cell_type": "code",
      "source": [
        "trainer.train()"
      ],
      "metadata": {
        "colab": {
          "base_uri": "https://localhost:8080/",
          "height": 345
        },
        "id": "cSxtoKIiKuD1",
        "outputId": "27d343f3-ac26-4a54-fbe2-aecbc449a610",
        "collapsed": true
      },
      "execution_count": null,
      "outputs": [
        {
          "output_type": "stream",
          "name": "stderr",
          "text": [
            "\u001b[34m\u001b[1mwandb\u001b[0m: \u001b[33mWARNING\u001b[0m The `run_name` is currently set to the same value as `TrainingArguments.output_dir`. If this was not intended, please specify a different run name by setting the `TrainingArguments.run_name` parameter.\n",
            "\u001b[34m\u001b[1mwandb\u001b[0m: Currently logged in as: \u001b[33ms0965007177\u001b[0m (\u001b[33ms0965007177-national-chengchi-university\u001b[0m) to \u001b[32mhttps://api.wandb.ai\u001b[0m. Use \u001b[1m`wandb login --relogin`\u001b[0m to force relogin\n"
          ]
        },
        {
          "output_type": "display_data",
          "data": {
            "text/plain": [
              "<IPython.core.display.HTML object>"
            ],
            "text/html": [
              "Tracking run with wandb version 0.19.11"
            ]
          },
          "metadata": {}
        },
        {
          "output_type": "display_data",
          "data": {
            "text/plain": [
              "<IPython.core.display.HTML object>"
            ],
            "text/html": [
              "Run data is saved locally in <code>/content/wandb/run-20250609_120002-cqn2lq8y</code>"
            ]
          },
          "metadata": {}
        },
        {
          "output_type": "display_data",
          "data": {
            "text/plain": [
              "<IPython.core.display.HTML object>"
            ],
            "text/html": [
              "Syncing run <strong><a href='https://wandb.ai/s0965007177-national-chengchi-university/huggingface/runs/cqn2lq8y' target=\"_blank\">./codebert_clf</a></strong> to <a href='https://wandb.ai/s0965007177-national-chengchi-university/huggingface' target=\"_blank\">Weights & Biases</a> (<a href='https://wandb.me/developer-guide' target=\"_blank\">docs</a>)<br>"
            ]
          },
          "metadata": {}
        },
        {
          "output_type": "display_data",
          "data": {
            "text/plain": [
              "<IPython.core.display.HTML object>"
            ],
            "text/html": [
              " View project at <a href='https://wandb.ai/s0965007177-national-chengchi-university/huggingface' target=\"_blank\">https://wandb.ai/s0965007177-national-chengchi-university/huggingface</a>"
            ]
          },
          "metadata": {}
        },
        {
          "output_type": "display_data",
          "data": {
            "text/plain": [
              "<IPython.core.display.HTML object>"
            ],
            "text/html": [
              " View run at <a href='https://wandb.ai/s0965007177-national-chengchi-university/huggingface/runs/cqn2lq8y' target=\"_blank\">https://wandb.ai/s0965007177-national-chengchi-university/huggingface/runs/cqn2lq8y</a>"
            ]
          },
          "metadata": {}
        },
        {
          "output_type": "display_data",
          "data": {
            "text/plain": [
              "<IPython.core.display.HTML object>"
            ],
            "text/html": [
              "\n",
              "    <div>\n",
              "      \n",
              "      <progress value='1119' max='1119' style='width:300px; height:20px; vertical-align: middle;'></progress>\n",
              "      [1119/1119 15:00, Epoch 3/3]\n",
              "    </div>\n",
              "    <table border=\"1\" class=\"dataframe\">\n",
              "  <thead>\n",
              " <tr style=\"text-align: left;\">\n",
              "      <th>Epoch</th>\n",
              "      <th>Training Loss</th>\n",
              "      <th>Validation Loss</th>\n",
              "      <th>Accuracy</th>\n",
              "      <th>Precision</th>\n",
              "      <th>Recall</th>\n",
              "      <th>F1</th>\n",
              "    </tr>\n",
              "  </thead>\n",
              "  <tbody>\n",
              "    <tr>\n",
              "      <td>1</td>\n",
              "      <td>No log</td>\n",
              "      <td>0.422850</td>\n",
              "      <td>0.842282</td>\n",
              "      <td>0.810976</td>\n",
              "      <td>0.892617</td>\n",
              "      <td>0.849840</td>\n",
              "    </tr>\n",
              "    <tr>\n",
              "      <td>2</td>\n",
              "      <td>0.477700</td>\n",
              "      <td>0.366995</td>\n",
              "      <td>0.865101</td>\n",
              "      <td>0.876731</td>\n",
              "      <td>0.849664</td>\n",
              "      <td>0.862986</td>\n",
              "    </tr>\n",
              "    <tr>\n",
              "      <td>3</td>\n",
              "      <td>0.245900</td>\n",
              "      <td>0.362452</td>\n",
              "      <td>0.876510</td>\n",
              "      <td>0.863813</td>\n",
              "      <td>0.893960</td>\n",
              "      <td>0.878628</td>\n",
              "    </tr>\n",
              "  </tbody>\n",
              "</table><p>"
            ]
          },
          "metadata": {}
        },
        {
          "output_type": "execute_result",
          "data": {
            "text/plain": [
              "TrainOutput(global_step=1119, training_loss=0.34505828093800617, metrics={'train_runtime': 906.5214, 'train_samples_per_second': 19.72, 'train_steps_per_second': 1.234, 'total_flos': 2351818168335360.0, 'train_loss': 0.34505828093800617, 'epoch': 3.0})"
            ]
          },
          "metadata": {},
          "execution_count": 13
        }
      ]
    },
    {
      "cell_type": "code",
      "source": [
        "trainer.evaluate(test_dataset)"
      ],
      "metadata": {
        "colab": {
          "base_uri": "https://localhost:8080/",
          "height": 193
        },
        "id": "m0tZ7F1vKubH",
        "outputId": "1466f228-f291-4f86-9f6b-592329bebaae"
      },
      "execution_count": null,
      "outputs": [
        {
          "output_type": "display_data",
          "data": {
            "text/plain": [
              "<IPython.core.display.HTML object>"
            ],
            "text/html": [
              "\n",
              "    <div>\n",
              "      \n",
              "      <progress value='59' max='59' style='width:300px; height:20px; vertical-align: middle;'></progress>\n",
              "      [59/59 00:23]\n",
              "    </div>\n",
              "    "
            ]
          },
          "metadata": {}
        },
        {
          "output_type": "execute_result",
          "data": {
            "text/plain": [
              "{'eval_loss': 0.37929728627204895,\n",
              " 'eval_accuracy': 0.8722490606548577,\n",
              " 'eval_precision': 0.8605619146722164,\n",
              " 'eval_recall': 0.8882921589688507,\n",
              " 'eval_f1': 0.8742071881606766,\n",
              " 'eval_runtime': 24.0629,\n",
              " 'eval_samples_per_second': 77.422,\n",
              " 'eval_steps_per_second': 2.452,\n",
              " 'epoch': 3.0}"
            ]
          },
          "metadata": {},
          "execution_count": 14
        }
      ]
    },
    {
      "cell_type": "code",
      "source": [
        "from sklearn.metrics import confusion_matrix, ConfusionMatrixDisplay\n",
        "\n",
        "# 預測\n",
        "preds_output = trainer.predict(test_dataset)\n",
        "y_true = preds_output.label_ids\n",
        "y_pred = preds_output.predictions.argmax(axis=-1)\n",
        "\n",
        "# 混淆矩陣\n",
        "cm = confusion_matrix(y_true, y_pred)\n",
        "disp = ConfusionMatrixDisplay(confusion_matrix=cm, display_labels=['Safe', 'Vulnerable'])\n",
        "disp.plot(cmap='Blues')"
      ],
      "metadata": {
        "colab": {
          "base_uri": "https://localhost:8080/",
          "height": 466
        },
        "id": "1aBu2SeXo0Nr",
        "outputId": "9c0353a4-1418-4a8c-9ce5-e0d1ef4395d2"
      },
      "execution_count": null,
      "outputs": [
        {
          "output_type": "display_data",
          "data": {
            "text/plain": [
              "<IPython.core.display.HTML object>"
            ],
            "text/html": []
          },
          "metadata": {}
        },
        {
          "output_type": "execute_result",
          "data": {
            "text/plain": [
              "<sklearn.metrics._plot.confusion_matrix.ConfusionMatrixDisplay at 0x78f6a33bb650>"
            ]
          },
          "metadata": {},
          "execution_count": 17
        },
        {
          "output_type": "display_data",
          "data": {
            "text/plain": [
              "<Figure size 640x480 with 2 Axes>"
            ],
            "image/png": "[encoded data removed]"
          },
          "metadata": {}
        }
      ]
    },
    {
      "cell_type": "markdown",
      "source": [
        "(4) CodeBERT\n",
        "\n",
        "* 訓練設定：\n",
        "\n",
        "    * learning_rate=2e-5\n",
        "\n",
        "    * epoch=3\n",
        "\n",
        "    * batch size: 16/32\n",
        "\n",
        "* 最終測試表現：\n",
        "\n",
        "    * Accuracy：87.7%\n",
        "\n",
        "    * Precision：86.4%\n",
        "\n",
        "    * Recall：89.4%\n",
        "\n",
        "    * F1-score：87.9%"
      ],
      "metadata": {
        "id": "8VmgJsDvVmKq"
      }
    },
    {
      "cell_type": "markdown",
      "source": [
        "![螢幕擷取畫面 2025-06-11 125704.png](data:image/png;base64,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)"
      ],
      "metadata": {
        "id": "XEgXFIIgWTXV"
      }
    }
  ]
}